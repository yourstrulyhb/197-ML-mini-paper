{
 "cells": [
  {
   "cell_type": "code",
   "execution_count": 1,
   "id": "844fcc65",
   "metadata": {
    "id": "844fcc65"
   },
   "outputs": [],
   "source": [
    "##### Standard Libraries #####\n",
    "import numpy as np\n",
    "import pandas as pd\n",
    "import matplotlib.pyplot as plt\n",
    "import seaborn as sns\n",
    "sns.set_style(\"whitegrid\")\n",
    "sns.set_context(\"poster\")\n",
    "\n",
    "%matplotlib inline\n",
    "\n",
    "##### For Preprocessing #####\n",
    "from sklearn.model_selection import train_test_split\n",
    "from sklearn.preprocessing import PolynomialFeatures\n",
    "\n",
    "##### For Building the Model #####\n",
    "from sklearn.linear_model import LinearRegression, Lasso, Ridge\n",
    "from sklearn.pipeline import make_pipeline\n",
    "\n",
    "##### For Validation of the Model #####\n",
    "from sklearn.metrics import r2_score, mean_absolute_error, mean_squared_error\n",
    "from sklearn.model_selection import cross_val_score"
   ]
  },
  {
   "cell_type": "markdown",
   "id": "5bcad1c1",
   "metadata": {
    "id": "5bcad1c1"
   },
   "source": [
    "# I. Preparing data"
   ]
  },
  {
   "cell_type": "markdown",
   "id": "vlGSU_16OUTr",
   "metadata": {
    "id": "vlGSU_16OUTr"
   },
   "source": [
    "## Load data"
   ]
  },
  {
   "cell_type": "code",
   "execution_count": 2,
   "id": "d9618157",
   "metadata": {
    "colab": {
     "base_uri": "https://localhost:8080/",
     "height": 223
    },
    "id": "d9618157",
    "outputId": "8250202a-e47b-400a-f294-98897e3df8fb"
   },
   "outputs": [
    {
     "name": "stdout",
     "output_type": "stream",
     "text": [
      "Size of the data: (1000, 9)\n"
     ]
    },
    {
     "data": {
      "text/html": [
       "<div>\n",
       "<style scoped>\n",
       "    .dataframe tbody tr th:only-of-type {\n",
       "        vertical-align: middle;\n",
       "    }\n",
       "\n",
       "    .dataframe tbody tr th {\n",
       "        vertical-align: top;\n",
       "    }\n",
       "\n",
       "    .dataframe thead th {\n",
       "        text-align: right;\n",
       "    }\n",
       "</style>\n",
       "<table border=\"1\" class=\"dataframe\">\n",
       "  <thead>\n",
       "    <tr style=\"text-align: right;\">\n",
       "      <th></th>\n",
       "      <th>Watch time(Minutes)</th>\n",
       "      <th>Stream time(minutes)</th>\n",
       "      <th>Peak viewers</th>\n",
       "      <th>Average viewers</th>\n",
       "      <th>Followers</th>\n",
       "      <th>Followers gained</th>\n",
       "      <th>Views gained</th>\n",
       "      <th>Partnered</th>\n",
       "      <th>Mature</th>\n",
       "    </tr>\n",
       "  </thead>\n",
       "  <tbody>\n",
       "    <tr>\n",
       "      <th>0</th>\n",
       "      <td>6196161750</td>\n",
       "      <td>215250</td>\n",
       "      <td>222720</td>\n",
       "      <td>27716</td>\n",
       "      <td>3246298</td>\n",
       "      <td>1734810</td>\n",
       "      <td>93036735</td>\n",
       "      <td>True</td>\n",
       "      <td>False</td>\n",
       "    </tr>\n",
       "    <tr>\n",
       "      <th>1</th>\n",
       "      <td>6091677300</td>\n",
       "      <td>211845</td>\n",
       "      <td>310998</td>\n",
       "      <td>25610</td>\n",
       "      <td>5310163</td>\n",
       "      <td>1370184</td>\n",
       "      <td>89705964</td>\n",
       "      <td>True</td>\n",
       "      <td>False</td>\n",
       "    </tr>\n",
       "    <tr>\n",
       "      <th>2</th>\n",
       "      <td>5644590915</td>\n",
       "      <td>515280</td>\n",
       "      <td>387315</td>\n",
       "      <td>10976</td>\n",
       "      <td>1767635</td>\n",
       "      <td>1023779</td>\n",
       "      <td>102611607</td>\n",
       "      <td>True</td>\n",
       "      <td>True</td>\n",
       "    </tr>\n",
       "    <tr>\n",
       "      <th>3</th>\n",
       "      <td>3970318140</td>\n",
       "      <td>517740</td>\n",
       "      <td>300575</td>\n",
       "      <td>7714</td>\n",
       "      <td>3944850</td>\n",
       "      <td>703986</td>\n",
       "      <td>106546942</td>\n",
       "      <td>True</td>\n",
       "      <td>False</td>\n",
       "    </tr>\n",
       "    <tr>\n",
       "      <th>4</th>\n",
       "      <td>3671000070</td>\n",
       "      <td>123660</td>\n",
       "      <td>285644</td>\n",
       "      <td>29602</td>\n",
       "      <td>8938903</td>\n",
       "      <td>2068424</td>\n",
       "      <td>78998587</td>\n",
       "      <td>True</td>\n",
       "      <td>False</td>\n",
       "    </tr>\n",
       "  </tbody>\n",
       "</table>\n",
       "</div>"
      ],
      "text/plain": [
       "   Watch time(Minutes)  Stream time(minutes)  Peak viewers  Average viewers  \\\n",
       "0           6196161750                215250        222720            27716   \n",
       "1           6091677300                211845        310998            25610   \n",
       "2           5644590915                515280        387315            10976   \n",
       "3           3970318140                517740        300575             7714   \n",
       "4           3671000070                123660        285644            29602   \n",
       "\n",
       "   Followers  Followers gained  Views gained  Partnered  Mature  \n",
       "0    3246298           1734810      93036735       True   False  \n",
       "1    5310163           1370184      89705964       True   False  \n",
       "2    1767635           1023779     102611607       True    True  \n",
       "3    3944850            703986     106546942       True   False  \n",
       "4    8938903           2068424      78998587       True   False  "
      ]
     },
     "execution_count": 2,
     "metadata": {},
     "output_type": "execute_result"
    }
   ],
   "source": [
    "# Load the data\n",
    "df = pd.read_csv(\"data/twitchdata.csv\") # ORIGINAL DATA, NO PROCESSING\n",
    "df.drop(['Channel'], axis = 1, inplace = True) # Remove non quantifiable features\n",
    "df.drop(['Language'], axis = 1, inplace = True) # Remove non quantifiable features\n",
    "\n",
    "print(\"Size of the data:\", df.shape)\n",
    "df.head()"
   ]
  },
  {
   "cell_type": "markdown",
   "id": "c4e5ab24",
   "metadata": {
    "id": "c4e5ab24"
   },
   "source": [
    "## Find NaN or missing values"
   ]
  },
  {
   "cell_type": "code",
   "execution_count": 3,
   "id": "dd9a4e32",
   "metadata": {
    "colab": {
     "base_uri": "https://localhost:8080/"
    },
    "id": "dd9a4e32",
    "outputId": "cf2df7cc-b315-4f90-dd29-f3e6775ef86f"
   },
   "outputs": [
    {
     "data": {
      "text/plain": [
       "0"
      ]
     },
     "execution_count": 3,
     "metadata": {},
     "output_type": "execute_result"
    }
   ],
   "source": [
    "df.isna().sum().sum() # Sum up NA values"
   ]
  },
  {
   "cell_type": "markdown",
   "id": "a5c9bcc2",
   "metadata": {
    "id": "a5c9bcc2"
   },
   "source": [
    "## Convert quantifiable column values"
   ]
  },
  {
   "cell_type": "code",
   "execution_count": 4,
   "id": "17620ed3",
   "metadata": {
    "colab": {
     "base_uri": "https://localhost:8080/",
     "height": 206
    },
    "id": "17620ed3",
    "outputId": "6f6e8dd4-b210-4313-ae85-badacc7851a2"
   },
   "outputs": [
    {
     "data": {
      "text/html": [
       "<div>\n",
       "<style scoped>\n",
       "    .dataframe tbody tr th:only-of-type {\n",
       "        vertical-align: middle;\n",
       "    }\n",
       "\n",
       "    .dataframe tbody tr th {\n",
       "        vertical-align: top;\n",
       "    }\n",
       "\n",
       "    .dataframe thead th {\n",
       "        text-align: right;\n",
       "    }\n",
       "</style>\n",
       "<table border=\"1\" class=\"dataframe\">\n",
       "  <thead>\n",
       "    <tr style=\"text-align: right;\">\n",
       "      <th></th>\n",
       "      <th>Watch time(Minutes)</th>\n",
       "      <th>Stream time(minutes)</th>\n",
       "      <th>Peak viewers</th>\n",
       "      <th>Average viewers</th>\n",
       "      <th>Followers</th>\n",
       "      <th>Followers gained</th>\n",
       "      <th>Views gained</th>\n",
       "      <th>Partnered</th>\n",
       "      <th>Mature</th>\n",
       "    </tr>\n",
       "  </thead>\n",
       "  <tbody>\n",
       "    <tr>\n",
       "      <th>0</th>\n",
       "      <td>6196161750</td>\n",
       "      <td>215250</td>\n",
       "      <td>222720</td>\n",
       "      <td>27716</td>\n",
       "      <td>3246298</td>\n",
       "      <td>1734810</td>\n",
       "      <td>93036735</td>\n",
       "      <td>1</td>\n",
       "      <td>0</td>\n",
       "    </tr>\n",
       "    <tr>\n",
       "      <th>1</th>\n",
       "      <td>6091677300</td>\n",
       "      <td>211845</td>\n",
       "      <td>310998</td>\n",
       "      <td>25610</td>\n",
       "      <td>5310163</td>\n",
       "      <td>1370184</td>\n",
       "      <td>89705964</td>\n",
       "      <td>1</td>\n",
       "      <td>0</td>\n",
       "    </tr>\n",
       "    <tr>\n",
       "      <th>2</th>\n",
       "      <td>5644590915</td>\n",
       "      <td>515280</td>\n",
       "      <td>387315</td>\n",
       "      <td>10976</td>\n",
       "      <td>1767635</td>\n",
       "      <td>1023779</td>\n",
       "      <td>102611607</td>\n",
       "      <td>1</td>\n",
       "      <td>1</td>\n",
       "    </tr>\n",
       "    <tr>\n",
       "      <th>3</th>\n",
       "      <td>3970318140</td>\n",
       "      <td>517740</td>\n",
       "      <td>300575</td>\n",
       "      <td>7714</td>\n",
       "      <td>3944850</td>\n",
       "      <td>703986</td>\n",
       "      <td>106546942</td>\n",
       "      <td>1</td>\n",
       "      <td>0</td>\n",
       "    </tr>\n",
       "    <tr>\n",
       "      <th>4</th>\n",
       "      <td>3671000070</td>\n",
       "      <td>123660</td>\n",
       "      <td>285644</td>\n",
       "      <td>29602</td>\n",
       "      <td>8938903</td>\n",
       "      <td>2068424</td>\n",
       "      <td>78998587</td>\n",
       "      <td>1</td>\n",
       "      <td>0</td>\n",
       "    </tr>\n",
       "  </tbody>\n",
       "</table>\n",
       "</div>"
      ],
      "text/plain": [
       "   Watch time(Minutes)  Stream time(minutes)  Peak viewers  Average viewers  \\\n",
       "0           6196161750                215250        222720            27716   \n",
       "1           6091677300                211845        310998            25610   \n",
       "2           5644590915                515280        387315            10976   \n",
       "3           3970318140                517740        300575             7714   \n",
       "4           3671000070                123660        285644            29602   \n",
       "\n",
       "   Followers  Followers gained  Views gained  Partnered  Mature  \n",
       "0    3246298           1734810      93036735          1       0  \n",
       "1    5310163           1370184      89705964          1       0  \n",
       "2    1767635           1023779     102611607          1       1  \n",
       "3    3944850            703986     106546942          1       0  \n",
       "4    8938903           2068424      78998587          1       0  "
      ]
     },
     "execution_count": 4,
     "metadata": {},
     "output_type": "execute_result"
    }
   ],
   "source": [
    "# Convert columns with True/False to 1/0\n",
    "df[\"Partnered\"] = df[\"Partnered\"].astype(int)\n",
    "df[\"Mature\"] = df[\"Mature\"].astype(int)\n",
    "\n",
    "df.head()"
   ]
  },
  {
   "cell_type": "markdown",
   "id": "dTgYpobEC98U",
   "metadata": {
    "id": "dTgYpobEC98U"
   },
   "source": [
    "## Visualize data\n",
    "### Look for outliers in original data via Boxplots"
   ]
  },
  {
   "cell_type": "code",
   "execution_count": 5,
   "id": "zSHEHFuxDB5H",
   "metadata": {
    "colab": {
     "base_uri": "https://localhost:8080/",
     "height": 544
    },
    "id": "zSHEHFuxDB5H",
    "outputId": "cbced03e-eb44-49a8-b57b-3fac3a8df120"
   },
   "outputs": [
    {
     "data": {
      "image/png": "[encoded data removed]",
      "text/plain": [
       "<Figure size 2160x720 with 1 Axes>"
      ]
     },
     "metadata": {
      "needs_background": "light"
     },
     "output_type": "display_data"
    }
   ],
   "source": [
    "# Displays data of a dataframe in boxplots\n",
    "def display_boxplot(data):\n",
    "  data_values = []\n",
    "  for col in df.columns:\n",
    "    data_values.append(data[col])\n",
    "\n",
    "  fig = plt.figure(figsize =(30, 10))\n",
    "  \n",
    "  # Creating axes instance\n",
    "  ax = fig.add_axes([0, 0, 1, 1])\n",
    "  \n",
    "  # Creating plot\n",
    "  bp = ax.boxplot(data_values, labels=data.columns)\n",
    "  \n",
    "  # show plot\n",
    "  plt.show()\n",
    "\n",
    "\n",
    "display_boxplot(df)"
   ]
  },
  {
   "cell_type": "markdown",
   "id": "0KBTRtZ92RHU",
   "metadata": {
    "id": "0KBTRtZ92RHU"
   },
   "source": [
    "## Minimize outliers in original data (but only in features with initially numerical values)"
   ]
  },
  {
   "cell_type": "code",
   "execution_count": 6,
   "id": "XF6rukARzogE",
   "metadata": {
    "colab": {
     "base_uri": "https://localhost:8080/"
    },
    "id": "XF6rukARzogE",
    "outputId": "43750df4-412d-434b-9d69-2a0e90acf164"
   },
   "outputs": [
    {
     "name": "stdout",
     "output_type": "stream",
     "text": [
      "Upper whisker:  839564953.125\n",
      "Lower Whisker:  -242635141.875\n"
     ]
    }
   ],
   "source": [
    "# Returns upper and lower limit in a data column\n",
    "def outliers(df, feature):\n",
    "    Q1= df[feature].quantile(0.25)\n",
    "    Q3 = df[feature].quantile(0.75)\n",
    "    IQR = Q3 - Q1\n",
    "    upper_limit = Q3 + (1.5 * IQR)\n",
    "    lower_limit = Q1 - (1.5 * IQR)\n",
    "    \n",
    "    return upper_limit, lower_limit\n",
    "\n",
    "\n",
    "upper, lower = outliers(df, \"Watch time(Minutes)\")\n",
    "print(\"Upper whisker: \", upper)\n",
    "print(\"Lower Whisker: \", lower)"
   ]
  },
  {
   "cell_type": "code",
   "execution_count": 7,
   "id": "dboGTA402QVe",
   "metadata": {
    "colab": {
     "base_uri": "https://localhost:8080/"
    },
    "id": "dboGTA402QVe",
    "outputId": "e247307c-4887-4b82-ebb2-763d755b2224"
   },
   "outputs": [
    {
     "name": "stdout",
     "output_type": "stream",
     "text": [
      "839564953.125 -242635141.875\n",
      "243127.5 -30052.5\n",
      "59394.375 -21916.625\n",
      "6584.75 -1719.25\n",
      "929807.5 -310912.5\n",
      "332065.25 -144306.75\n",
      "14978220.25 -3491073.75\n"
     ]
    }
   ],
   "source": [
    "numerical_columns = ['Watch time(Minutes)', 'Stream time(minutes)', 'Peak viewers', 'Average viewers', 'Followers', 'Followers gained', 'Views gained']\n",
    "\n",
    "df_no_outliers = df # Copy original data\n",
    "\n",
    "# Remove or minimize outliers\n",
    "for col in numerical_columns:\n",
    "  upper, lower = outliers(df_no_outliers, col) # Get upper and lower limit of column's values\n",
    "  print(upper, lower)\n",
    "  df_no_outliers = df_no_outliers[(df_no_outliers[col] > lower) & (df_no_outliers[col] < upper)] # "
   ]
  },
  {
   "cell_type": "markdown",
   "id": "OVEhz9f5N386",
   "metadata": {
    "id": "OVEhz9f5N386"
   },
   "source": [
    "### Updated original data with minimal outliers"
   ]
  },
  {
   "cell_type": "code",
   "execution_count": 8,
   "id": "qBjLYlSJ0d4T",
   "metadata": {
    "colab": {
     "base_uri": "https://localhost:8080/",
     "height": 544
    },
    "id": "qBjLYlSJ0d4T",
    "outputId": "88069072-80ac-4f11-e6c6-4510b570ffaa"
   },
   "outputs": [
    {
     "data": {
      "image/png": "[encoded data removed]",
      "text/plain": [
       "<Figure size 2160x720 with 1 Axes>"
      ]
     },
     "metadata": {
      "needs_background": "light"
     },
     "output_type": "display_data"
    }
   ],
   "source": [
    "display_boxplot(df_no_outliers)"
   ]
  },
  {
   "cell_type": "code",
   "execution_count": 9,
   "id": "YtZ5p0-iOOxh",
   "metadata": {
    "colab": {
     "base_uri": "https://localhost:8080/",
     "height": 223
    },
    "id": "YtZ5p0-iOOxh",
    "outputId": "61de8bcc-7b11-4317-83f5-15a269e46ad2"
   },
   "outputs": [
    {
     "name": "stdout",
     "output_type": "stream",
     "text": [
      "Updated data size:  (613, 9)\n"
     ]
    },
    {
     "data": {
      "text/html": [
       "<div>\n",
       "<style scoped>\n",
       "    .dataframe tbody tr th:only-of-type {\n",
       "        vertical-align: middle;\n",
       "    }\n",
       "\n",
       "    .dataframe tbody tr th {\n",
       "        vertical-align: top;\n",
       "    }\n",
       "\n",
       "    .dataframe thead th {\n",
       "        text-align: right;\n",
       "    }\n",
       "</style>\n",
       "<table border=\"1\" class=\"dataframe\">\n",
       "  <thead>\n",
       "    <tr style=\"text-align: right;\">\n",
       "      <th></th>\n",
       "      <th>Watch time(Minutes)</th>\n",
       "      <th>Stream time(minutes)</th>\n",
       "      <th>Peak viewers</th>\n",
       "      <th>Average viewers</th>\n",
       "      <th>Followers</th>\n",
       "      <th>Followers gained</th>\n",
       "      <th>Views gained</th>\n",
       "      <th>Partnered</th>\n",
       "      <th>Mature</th>\n",
       "    </tr>\n",
       "  </thead>\n",
       "  <tbody>\n",
       "    <tr>\n",
       "      <th>122</th>\n",
       "      <td>726000045</td>\n",
       "      <td>145755</td>\n",
       "      <td>13080</td>\n",
       "      <td>4922</td>\n",
       "      <td>346566</td>\n",
       "      <td>37883</td>\n",
       "      <td>12800182</td>\n",
       "      <td>1</td>\n",
       "      <td>0</td>\n",
       "    </tr>\n",
       "    <tr>\n",
       "      <th>136</th>\n",
       "      <td>653181210</td>\n",
       "      <td>187530</td>\n",
       "      <td>33646</td>\n",
       "      <td>3270</td>\n",
       "      <td>817365</td>\n",
       "      <td>29415</td>\n",
       "      <td>13757678</td>\n",
       "      <td>1</td>\n",
       "      <td>0</td>\n",
       "    </tr>\n",
       "    <tr>\n",
       "      <th>138</th>\n",
       "      <td>650910525</td>\n",
       "      <td>162690</td>\n",
       "      <td>24101</td>\n",
       "      <td>3894</td>\n",
       "      <td>571183</td>\n",
       "      <td>115692</td>\n",
       "      <td>8579344</td>\n",
       "      <td>1</td>\n",
       "      <td>1</td>\n",
       "    </tr>\n",
       "    <tr>\n",
       "      <th>140</th>\n",
       "      <td>649761570</td>\n",
       "      <td>145050</td>\n",
       "      <td>14480</td>\n",
       "      <td>4420</td>\n",
       "      <td>423002</td>\n",
       "      <td>249048</td>\n",
       "      <td>14109245</td>\n",
       "      <td>1</td>\n",
       "      <td>1</td>\n",
       "    </tr>\n",
       "    <tr>\n",
       "      <th>146</th>\n",
       "      <td>625142130</td>\n",
       "      <td>115650</td>\n",
       "      <td>13945</td>\n",
       "      <td>5216</td>\n",
       "      <td>331632</td>\n",
       "      <td>77979</td>\n",
       "      <td>13181386</td>\n",
       "      <td>1</td>\n",
       "      <td>0</td>\n",
       "    </tr>\n",
       "  </tbody>\n",
       "</table>\n",
       "</div>"
      ],
      "text/plain": [
       "     Watch time(Minutes)  Stream time(minutes)  Peak viewers  Average viewers  \\\n",
       "122            726000045                145755         13080             4922   \n",
       "136            653181210                187530         33646             3270   \n",
       "138            650910525                162690         24101             3894   \n",
       "140            649761570                145050         14480             4420   \n",
       "146            625142130                115650         13945             5216   \n",
       "\n",
       "     Followers  Followers gained  Views gained  Partnered  Mature  \n",
       "122     346566             37883      12800182          1       0  \n",
       "136     817365             29415      13757678          1       0  \n",
       "138     571183            115692       8579344          1       1  \n",
       "140     423002            249048      14109245          1       1  \n",
       "146     331632             77979      13181386          1       0  "
      ]
     },
     "execution_count": 9,
     "metadata": {},
     "output_type": "execute_result"
    }
   ],
   "source": [
    "print(\"Updated data size: \", df_no_outliers.shape)\n",
    "df_no_outliers.head()"
   ]
  },
  {
   "cell_type": "markdown",
   "id": "21810566",
   "metadata": {
    "id": "21810566"
   },
   "source": [
    "\n",
    "## Standardize data"
   ]
  },
  {
   "cell_type": "code",
   "execution_count": 10,
   "id": "a9eda17f",
   "metadata": {
    "colab": {
     "base_uri": "https://localhost:8080/",
     "height": 223
    },
    "id": "a9eda17f",
    "outputId": "97fdb072-9701-4002-a121-1747e6a95b30"
   },
   "outputs": [
    {
     "name": "stdout",
     "output_type": "stream",
     "text": [
      "twitch_data size:  (613, 9)\n"
     ]
    },
    {
     "data": {
      "text/html": [
       "<div>\n",
       "<style scoped>\n",
       "    .dataframe tbody tr th:only-of-type {\n",
       "        vertical-align: middle;\n",
       "    }\n",
       "\n",
       "    .dataframe tbody tr th {\n",
       "        vertical-align: top;\n",
       "    }\n",
       "\n",
       "    .dataframe thead th {\n",
       "        text-align: right;\n",
       "    }\n",
       "</style>\n",
       "<table border=\"1\" class=\"dataframe\">\n",
       "  <thead>\n",
       "    <tr style=\"text-align: right;\">\n",
       "      <th></th>\n",
       "      <th>Watch time(Minutes)</th>\n",
       "      <th>Stream time(minutes)</th>\n",
       "      <th>Peak viewers</th>\n",
       "      <th>Average viewers</th>\n",
       "      <th>Followers</th>\n",
       "      <th>Followers gained</th>\n",
       "      <th>Views gained</th>\n",
       "      <th>Partnered</th>\n",
       "      <th>Mature</th>\n",
       "    </tr>\n",
       "  </thead>\n",
       "  <tbody>\n",
       "    <tr>\n",
       "      <th>122</th>\n",
       "      <td>4.436954</td>\n",
       "      <td>0.779229</td>\n",
       "      <td>-0.156030</td>\n",
       "      <td>2.248601</td>\n",
       "      <td>0.292531</td>\n",
       "      <td>-0.748607</td>\n",
       "      <td>2.319729</td>\n",
       "      <td>1</td>\n",
       "      <td>0</td>\n",
       "    </tr>\n",
       "    <tr>\n",
       "      <th>136</th>\n",
       "      <td>3.784368</td>\n",
       "      <td>1.768083</td>\n",
       "      <td>1.801552</td>\n",
       "      <td>0.880306</td>\n",
       "      <td>2.750159</td>\n",
       "      <td>-0.854707</td>\n",
       "      <td>2.632937</td>\n",
       "      <td>1</td>\n",
       "      <td>0</td>\n",
       "    </tr>\n",
       "    <tr>\n",
       "      <th>138</th>\n",
       "      <td>3.764019</td>\n",
       "      <td>1.180097</td>\n",
       "      <td>0.893008</td>\n",
       "      <td>1.397144</td>\n",
       "      <td>1.465059</td>\n",
       "      <td>0.226307</td>\n",
       "      <td>0.939045</td>\n",
       "      <td>1</td>\n",
       "      <td>1</td>\n",
       "    </tr>\n",
       "    <tr>\n",
       "      <th>140</th>\n",
       "      <td>3.753722</td>\n",
       "      <td>0.762541</td>\n",
       "      <td>-0.022771</td>\n",
       "      <td>1.832812</td>\n",
       "      <td>0.691536</td>\n",
       "      <td>1.897201</td>\n",
       "      <td>2.747938</td>\n",
       "      <td>1</td>\n",
       "      <td>1</td>\n",
       "    </tr>\n",
       "    <tr>\n",
       "      <th>146</th>\n",
       "      <td>3.533089</td>\n",
       "      <td>0.066615</td>\n",
       "      <td>-0.073695</td>\n",
       "      <td>2.492111</td>\n",
       "      <td>0.214574</td>\n",
       "      <td>-0.246221</td>\n",
       "      <td>2.444425</td>\n",
       "      <td>1</td>\n",
       "      <td>0</td>\n",
       "    </tr>\n",
       "  </tbody>\n",
       "</table>\n",
       "</div>"
      ],
      "text/plain": [
       "     Watch time(Minutes)  Stream time(minutes)  Peak viewers  Average viewers  \\\n",
       "122             4.436954              0.779229     -0.156030         2.248601   \n",
       "136             3.784368              1.768083      1.801552         0.880306   \n",
       "138             3.764019              1.180097      0.893008         1.397144   \n",
       "140             3.753722              0.762541     -0.022771         1.832812   \n",
       "146             3.533089              0.066615     -0.073695         2.492111   \n",
       "\n",
       "     Followers  Followers gained  Views gained  Partnered  Mature  \n",
       "122   0.292531         -0.748607      2.319729          1       0  \n",
       "136   2.750159         -0.854707      2.632937          1       0  \n",
       "138   1.465059          0.226307      0.939045          1       1  \n",
       "140   0.691536          1.897201      2.747938          1       1  \n",
       "146   0.214574         -0.246221      2.444425          1       0  "
      ]
     },
     "execution_count": 10,
     "metadata": {},
     "output_type": "execute_result"
    }
   ],
   "source": [
    "numerical_columns = ['Watch time(Minutes)', 'Stream time(minutes)', 'Peak viewers', 'Average viewers', 'Followers', 'Followers gained', 'Views gained']\n",
    "\n",
    "twitch_data = df_no_outliers  # copy data with no outliers to twitch_data\n",
    "\n",
    "# Standardize values in numerical columns\n",
    "for col in numerical_columns:\n",
    "    col_mean = twitch_data[col].mean()\n",
    "    col_std = twitch_data[col].std()\n",
    "\n",
    "    twitch_data[col] = (twitch_data[col] - col_mean)/col_std\n",
    "\n",
    "print(\"twitch_data size: \", twitch_data.shape)\n",
    "twitch_data.head()"
   ]
  },
  {
   "cell_type": "markdown",
   "id": "8f52d216",
   "metadata": {
    "id": "8f52d216"
   },
   "source": [
    "## Divide predictors (x) and label (y) data"
   ]
  },
  {
   "cell_type": "code",
   "execution_count": 11,
   "id": "a6f8310e",
   "metadata": {
    "id": "a6f8310e"
   },
   "outputs": [],
   "source": [
    "x = twitch_data.drop(\"Average viewers\", axis = 1)\n",
    "y = twitch_data[\"Average viewers\"]"
   ]
  },
  {
   "cell_type": "code",
   "execution_count": 12,
   "id": "9dbdc848",
   "metadata": {
    "colab": {
     "base_uri": "https://localhost:8080/",
     "height": 206
    },
    "id": "9dbdc848",
    "outputId": "1137207f-5db3-47db-e625-11d0ebdf3b53"
   },
   "outputs": [
    {
     "data": {
      "text/html": [
       "<div>\n",
       "<style scoped>\n",
       "    .dataframe tbody tr th:only-of-type {\n",
       "        vertical-align: middle;\n",
       "    }\n",
       "\n",
       "    .dataframe tbody tr th {\n",
       "        vertical-align: top;\n",
       "    }\n",
       "\n",
       "    .dataframe thead th {\n",
       "        text-align: right;\n",
       "    }\n",
       "</style>\n",
       "<table border=\"1\" class=\"dataframe\">\n",
       "  <thead>\n",
       "    <tr style=\"text-align: right;\">\n",
       "      <th></th>\n",
       "      <th>Watch time(Minutes)</th>\n",
       "      <th>Stream time(minutes)</th>\n",
       "      <th>Peak viewers</th>\n",
       "      <th>Followers</th>\n",
       "      <th>Followers gained</th>\n",
       "      <th>Views gained</th>\n",
       "      <th>Partnered</th>\n",
       "      <th>Mature</th>\n",
       "    </tr>\n",
       "  </thead>\n",
       "  <tbody>\n",
       "    <tr>\n",
       "      <th>122</th>\n",
       "      <td>4.436954</td>\n",
       "      <td>0.779229</td>\n",
       "      <td>-0.156030</td>\n",
       "      <td>0.292531</td>\n",
       "      <td>-0.748607</td>\n",
       "      <td>2.319729</td>\n",
       "      <td>1</td>\n",
       "      <td>0</td>\n",
       "    </tr>\n",
       "    <tr>\n",
       "      <th>136</th>\n",
       "      <td>3.784368</td>\n",
       "      <td>1.768083</td>\n",
       "      <td>1.801552</td>\n",
       "      <td>2.750159</td>\n",
       "      <td>-0.854707</td>\n",
       "      <td>2.632937</td>\n",
       "      <td>1</td>\n",
       "      <td>0</td>\n",
       "    </tr>\n",
       "    <tr>\n",
       "      <th>138</th>\n",
       "      <td>3.764019</td>\n",
       "      <td>1.180097</td>\n",
       "      <td>0.893008</td>\n",
       "      <td>1.465059</td>\n",
       "      <td>0.226307</td>\n",
       "      <td>0.939045</td>\n",
       "      <td>1</td>\n",
       "      <td>1</td>\n",
       "    </tr>\n",
       "    <tr>\n",
       "      <th>140</th>\n",
       "      <td>3.753722</td>\n",
       "      <td>0.762541</td>\n",
       "      <td>-0.022771</td>\n",
       "      <td>0.691536</td>\n",
       "      <td>1.897201</td>\n",
       "      <td>2.747938</td>\n",
       "      <td>1</td>\n",
       "      <td>1</td>\n",
       "    </tr>\n",
       "    <tr>\n",
       "      <th>146</th>\n",
       "      <td>3.533089</td>\n",
       "      <td>0.066615</td>\n",
       "      <td>-0.073695</td>\n",
       "      <td>0.214574</td>\n",
       "      <td>-0.246221</td>\n",
       "      <td>2.444425</td>\n",
       "      <td>1</td>\n",
       "      <td>0</td>\n",
       "    </tr>\n",
       "  </tbody>\n",
       "</table>\n",
       "</div>"
      ],
      "text/plain": [
       "     Watch time(Minutes)  Stream time(minutes)  Peak viewers  Followers  \\\n",
       "122             4.436954              0.779229     -0.156030   0.292531   \n",
       "136             3.784368              1.768083      1.801552   2.750159   \n",
       "138             3.764019              1.180097      0.893008   1.465059   \n",
       "140             3.753722              0.762541     -0.022771   0.691536   \n",
       "146             3.533089              0.066615     -0.073695   0.214574   \n",
       "\n",
       "     Followers gained  Views gained  Partnered  Mature  \n",
       "122         -0.748607      2.319729          1       0  \n",
       "136         -0.854707      2.632937          1       0  \n",
       "138          0.226307      0.939045          1       1  \n",
       "140          1.897201      2.747938          1       1  \n",
       "146         -0.246221      2.444425          1       0  "
      ]
     },
     "execution_count": 12,
     "metadata": {},
     "output_type": "execute_result"
    }
   ],
   "source": [
    "x.head()"
   ]
  },
  {
   "cell_type": "code",
   "execution_count": 13,
   "id": "896cd8e2",
   "metadata": {
    "colab": {
     "base_uri": "https://localhost:8080/"
    },
    "id": "896cd8e2",
    "outputId": "af406465-984d-49a3-83ad-8a86b31571c9"
   },
   "outputs": [
    {
     "data": {
      "text/plain": [
       "122    2.248601\n",
       "136    0.880306\n",
       "138    1.397144\n",
       "140    1.832812\n",
       "146    2.492111\n",
       "Name: Average viewers, dtype: float64"
      ]
     },
     "execution_count": 13,
     "metadata": {},
     "output_type": "execute_result"
    }
   ],
   "source": [
    "y.head()"
   ]
  },
  {
   "cell_type": "markdown",
   "id": "06e5c169",
   "metadata": {
    "id": "06e5c169"
   },
   "source": [
    "## Divide training and test datasets"
   ]
  },
  {
   "cell_type": "code",
   "execution_count": 14,
   "id": "7ca590d6",
   "metadata": {
    "colab": {
     "base_uri": "https://localhost:8080/"
    },
    "id": "7ca590d6",
    "outputId": "f4bc1bce-e647-486c-a573-78391680bf96"
   },
   "outputs": [
    {
     "name": "stdout",
     "output_type": "stream",
     "text": [
      "x_train size: (459, 8)\n",
      "y_train size: (459,)\n",
      "\n",
      "x_test size: (154, 8)\n",
      "y_test size: (154,)\n"
     ]
    }
   ],
   "source": [
    "x_train, x_test, y_train, y_test = train_test_split(x, y, test_size=0.25, random_state=42) # Training=0.75, Test=0.25\n",
    "\n",
    "print(\"x_train size:\", x_train.shape)\n",
    "print(\"y_train size:\", y_train.shape)\n",
    "print(\"\\nx_test size:\", x_test.shape)\n",
    "print(\"y_test size:\", y_test.shape)"
   ]
  },
  {
   "cell_type": "code",
   "execution_count": 15,
   "id": "a73538ad",
   "metadata": {
    "colab": {
     "base_uri": "https://localhost:8080/",
     "height": 206
    },
    "id": "a73538ad",
    "outputId": "cfa4f377-5f60-4523-e6de-65adb2b20443"
   },
   "outputs": [
    {
     "data": {
      "text/html": [
       "<div>\n",
       "<style scoped>\n",
       "    .dataframe tbody tr th:only-of-type {\n",
       "        vertical-align: middle;\n",
       "    }\n",
       "\n",
       "    .dataframe tbody tr th {\n",
       "        vertical-align: top;\n",
       "    }\n",
       "\n",
       "    .dataframe thead th {\n",
       "        text-align: right;\n",
       "    }\n",
       "</style>\n",
       "<table border=\"1\" class=\"dataframe\">\n",
       "  <thead>\n",
       "    <tr style=\"text-align: right;\">\n",
       "      <th></th>\n",
       "      <th>Watch time(Minutes)</th>\n",
       "      <th>Stream time(minutes)</th>\n",
       "      <th>Peak viewers</th>\n",
       "      <th>Followers</th>\n",
       "      <th>Followers gained</th>\n",
       "      <th>Views gained</th>\n",
       "      <th>Partnered</th>\n",
       "      <th>Mature</th>\n",
       "    </tr>\n",
       "  </thead>\n",
       "  <tbody>\n",
       "    <tr>\n",
       "      <th>442</th>\n",
       "      <td>0.283108</td>\n",
       "      <td>0.530329</td>\n",
       "      <td>-0.644998</td>\n",
       "      <td>0.564332</td>\n",
       "      <td>1.518808</td>\n",
       "      <td>2.283732</td>\n",
       "      <td>1</td>\n",
       "      <td>0</td>\n",
       "    </tr>\n",
       "    <tr>\n",
       "      <th>601</th>\n",
       "      <td>-0.277294</td>\n",
       "      <td>0.217518</td>\n",
       "      <td>-0.790822</td>\n",
       "      <td>-0.747395</td>\n",
       "      <td>-0.429742</td>\n",
       "      <td>-0.300786</td>\n",
       "      <td>1</td>\n",
       "      <td>0</td>\n",
       "    </tr>\n",
       "    <tr>\n",
       "      <th>329</th>\n",
       "      <td>0.978568</td>\n",
       "      <td>-0.300876</td>\n",
       "      <td>0.834659</td>\n",
       "      <td>-0.254642</td>\n",
       "      <td>0.169047</td>\n",
       "      <td>-0.425024</td>\n",
       "      <td>1</td>\n",
       "      <td>1</td>\n",
       "    </tr>\n",
       "    <tr>\n",
       "      <th>874</th>\n",
       "      <td>-0.807360</td>\n",
       "      <td>-1.975359</td>\n",
       "      <td>2.890568</td>\n",
       "      <td>-0.091785</td>\n",
       "      <td>2.013525</td>\n",
       "      <td>0.088155</td>\n",
       "      <td>1</td>\n",
       "      <td>0</td>\n",
       "    </tr>\n",
       "    <tr>\n",
       "      <th>370</th>\n",
       "      <td>0.684944</td>\n",
       "      <td>-1.363583</td>\n",
       "      <td>3.787309</td>\n",
       "      <td>-0.220549</td>\n",
       "      <td>-0.323478</td>\n",
       "      <td>2.521799</td>\n",
       "      <td>1</td>\n",
       "      <td>0</td>\n",
       "    </tr>\n",
       "  </tbody>\n",
       "</table>\n",
       "</div>"
      ],
      "text/plain": [
       "     Watch time(Minutes)  Stream time(minutes)  Peak viewers  Followers  \\\n",
       "442             0.283108              0.530329     -0.644998   0.564332   \n",
       "601            -0.277294              0.217518     -0.790822  -0.747395   \n",
       "329             0.978568             -0.300876      0.834659  -0.254642   \n",
       "874            -0.807360             -1.975359      2.890568  -0.091785   \n",
       "370             0.684944             -1.363583      3.787309  -0.220549   \n",
       "\n",
       "     Followers gained  Views gained  Partnered  Mature  \n",
       "442          1.518808      2.283732          1       0  \n",
       "601         -0.429742     -0.300786          1       0  \n",
       "329          0.169047     -0.425024          1       1  \n",
       "874          2.013525      0.088155          1       0  \n",
       "370         -0.323478      2.521799          1       0  "
      ]
     },
     "execution_count": 15,
     "metadata": {},
     "output_type": "execute_result"
    }
   ],
   "source": [
    "x_train.head()"
   ]
  },
  {
   "cell_type": "markdown",
   "id": "9692560c",
   "metadata": {
    "id": "9692560c"
   },
   "source": [
    "# II. Building the models"
   ]
  },
  {
   "cell_type": "code",
   "execution_count": 16,
   "id": "652577ed",
   "metadata": {
    "id": "652577ed"
   },
   "outputs": [],
   "source": [
    "# Linear regression function\n",
    "# Returns predicted values, model coefficients, regression score\n",
    "def linear_regression(Xtrain, Ytrain, Xtest):\n",
    "    \n",
    "    model = LinearRegression()  \n",
    "    \n",
    "    model.fit(Xtrain, Ytrain) # Fit model with sklearn\n",
    "\n",
    "    Ypred = model.predict(Xtest) # Predict with x_test data\n",
    "    \n",
    "    # Get model coefficients\n",
    "    coefficients = {} \n",
    "    for i in range(len(model.coef_)):\n",
    "        coefficients[Xtrain.columns[i]] = model.coef_[i]\n",
    "        \n",
    "    print(\"Intercept: \", model.intercept_)\n",
    "    \n",
    "    return Ypred, coefficients, model.score(Xtest, y_test)\n",
    "\n",
    "# Returns evaluations scores\n",
    "# Prints scatter plot of actual and predicted values\n",
    "def evaluate_model(Ypred, Ytest):\n",
    "    f, ax = plt.subplots(figsize=(10, 7))\n",
    "   \n",
    "    # Fit linear regression via least squares with numpy.polyfit\n",
    "    # deg=1 means linear fit (i.e. polynomial of degree 1)\n",
    "    m, b = np.polyfit(Ypred, Ytest, deg=1) # slope, intercept\n",
    "\n",
    "    plt.scatter(Ypred, Ytest, color='black')\n",
    "  \n",
    "    xseq = np.linspace(0, 10, num=100)   # Sequence of 100 numbers from 0 to 100 \n",
    "    ax.plot(Ypred, (m * Ypred) + b, color=\"red\"); # Regression line\n",
    "\n",
    "    plt.xlabel(\"Predicted\")\n",
    "    plt.ylabel(\"Actual\")\n",
    "    plt.title(\"Actual vs Predicted\")\n",
    "\n",
    "    \n",
    "    return {\"R2\": r2_score(Ypred, Ytest) * 100, \"MAE\": mean_absolute_error(Ypred, Ytest), \n",
    "            \"MSE\": mean_squared_error(Ypred, Ytest), \"RMSE\": np.sqrt(mean_squared_error(Ypred, Ytest))}\n"
   ]
  },
  {
   "cell_type": "markdown",
   "id": "041e70f8",
   "metadata": {
    "id": "041e70f8"
   },
   "source": [
    "### Dataframe for evaluation results"
   ]
  },
  {
   "cell_type": "code",
   "execution_count": 17,
   "id": "7bc9e6e6",
   "metadata": {
    "colab": {
     "base_uri": "https://localhost:8080/",
     "height": 49
    },
    "id": "7bc9e6e6",
    "outputId": "8a33afa3-a46d-4ca8-c335-d522a81f01aa"
   },
   "outputs": [
    {
     "data": {
      "text/html": [
       "<div>\n",
       "<style scoped>\n",
       "    .dataframe tbody tr th:only-of-type {\n",
       "        vertical-align: middle;\n",
       "    }\n",
       "\n",
       "    .dataframe tbody tr th {\n",
       "        vertical-align: top;\n",
       "    }\n",
       "\n",
       "    .dataframe thead th {\n",
       "        text-align: right;\n",
       "    }\n",
       "</style>\n",
       "<table border=\"1\" class=\"dataframe\">\n",
       "  <thead>\n",
       "    <tr style=\"text-align: right;\">\n",
       "      <th></th>\n",
       "      <th>Predictor/s</th>\n",
       "      <th>R2</th>\n",
       "      <th>MAE</th>\n",
       "      <th>MSE</th>\n",
       "      <th>RMSE</th>\n",
       "      <th>Regression Score</th>\n",
       "      <th>Cross-Val Mean</th>\n",
       "    </tr>\n",
       "  </thead>\n",
       "  <tbody>\n",
       "  </tbody>\n",
       "</table>\n",
       "</div>"
      ],
      "text/plain": [
       "Empty DataFrame\n",
       "Columns: [Predictor/s, R2, MAE, MSE, RMSE, Regression Score, Cross-Val Mean]\n",
       "Index: []"
      ]
     },
     "execution_count": 17,
     "metadata": {},
     "output_type": "execute_result"
    }
   ],
   "source": [
    "eval_results = pd.DataFrame(columns=[\"Predictor/s\", \"R2\", \"MAE\", \"MSE\", \"RMSE\", \"Regression Score\", \"Cross-Val Mean\"])\n",
    "eval_results"
   ]
  },
  {
   "cell_type": "markdown",
   "id": "f5149dff",
   "metadata": {
    "id": "f5149dff"
   },
   "source": [
    "## Setup 1 - Model with all features"
   ]
  },
  {
   "cell_type": "code",
   "execution_count": 18,
   "id": "a18cdf03",
   "metadata": {
    "colab": {
     "base_uri": "https://localhost:8080/",
     "height": 564
    },
    "id": "a18cdf03",
    "outputId": "61ace5d6-4b04-4cc5-e5db-2ebdb4ab621f"
   },
   "outputs": [
    {
     "name": "stdout",
     "output_type": "stream",
     "text": [
      "Intercept:  0.29330150816426054\n"
     ]
    },
    {
     "name": "stderr",
     "output_type": "stream",
     "text": [
      "C:\\Users\\User\\AppData\\Local\\Temp\\ipykernel_17252\\2453350127.py:13: FutureWarning: The frame.append method is deprecated and will be removed from pandas in a future version. Use pandas.concat instead.\n",
      "  eval_results = eval_results.append(setup_1_eval, ignore_index=True)\n"
     ]
    },
    {
     "data": {
      "text/html": [
       "<div>\n",
       "<style scoped>\n",
       "    .dataframe tbody tr th:only-of-type {\n",
       "        vertical-align: middle;\n",
       "    }\n",
       "\n",
       "    .dataframe tbody tr th {\n",
       "        vertical-align: top;\n",
       "    }\n",
       "\n",
       "    .dataframe thead th {\n",
       "        text-align: right;\n",
       "    }\n",
       "</style>\n",
       "<table border=\"1\" class=\"dataframe\">\n",
       "  <thead>\n",
       "    <tr style=\"text-align: right;\">\n",
       "      <th></th>\n",
       "      <th>Predictor/s</th>\n",
       "      <th>R2</th>\n",
       "      <th>MAE</th>\n",
       "      <th>MSE</th>\n",
       "      <th>RMSE</th>\n",
       "      <th>Regression Score</th>\n",
       "      <th>Cross-Val Mean</th>\n",
       "    </tr>\n",
       "  </thead>\n",
       "  <tbody>\n",
       "    <tr>\n",
       "      <th>0</th>\n",
       "      <td>All</td>\n",
       "      <td>80.503011</td>\n",
       "      <td>0.287223</td>\n",
       "      <td>0.162777</td>\n",
       "      <td>0.403456</td>\n",
       "      <td>0.827471</td>\n",
       "      <td>70.89072</td>\n",
       "    </tr>\n",
       "  </tbody>\n",
       "</table>\n",
       "</div>"
      ],
      "text/plain": [
       "  Predictor/s         R2       MAE       MSE      RMSE Regression Score  \\\n",
       "0         All  80.503011  0.287223  0.162777  0.403456         0.827471   \n",
       "\n",
       "  Cross-Val Mean  \n",
       "0       70.89072  "
      ]
     },
     "execution_count": 18,
     "metadata": {},
     "output_type": "execute_result"
    },
    {
     "data": {
      "image/png": "[encoded data removed]",
      "text/plain": [
       "<Figure size 720x504 with 1 Axes>"
      ]
     },
     "metadata": {
      "needs_background": "light"
     },
     "output_type": "display_data"
    }
   ],
   "source": [
    "# Predict\n",
    "setup_1_pred, coef_1, regr_score_1 = linear_regression(x_train, y_train, x_test)\n",
    "\n",
    "# Evaluation\n",
    "setup_1_eval = evaluate_model(setup_1_pred, y_test)\n",
    "\n",
    "# Cross Validation\n",
    "cv_score = cross_val_score(LinearRegression(), x[x_train.columns], y, cv=10)\n",
    "\n",
    "# Compile evaluation results\n",
    "setup_1_eval.update({\"Predictor/s\": \"All\", \"Cross-Val Mean\": cv_score.mean() * 100, \"Regression Score\": regr_score_1})\n",
    "\n",
    "eval_results = eval_results.append(setup_1_eval, ignore_index=True)\n",
    "eval_results"
   ]
  },
  {
   "cell_type": "code",
   "execution_count": 19,
   "id": "LDRk5fi8cQWr",
   "metadata": {
    "colab": {
     "base_uri": "https://localhost:8080/",
     "height": 81
    },
    "id": "LDRk5fi8cQWr",
    "outputId": "2a2a402e-2830-45e5-bc94-95d8d77443f5"
   },
   "outputs": [
    {
     "data": {
      "text/html": [
       "<div>\n",
       "<style scoped>\n",
       "    .dataframe tbody tr th:only-of-type {\n",
       "        vertical-align: middle;\n",
       "    }\n",
       "\n",
       "    .dataframe tbody tr th {\n",
       "        vertical-align: top;\n",
       "    }\n",
       "\n",
       "    .dataframe thead th {\n",
       "        text-align: right;\n",
       "    }\n",
       "</style>\n",
       "<table border=\"1\" class=\"dataframe\">\n",
       "  <thead>\n",
       "    <tr style=\"text-align: right;\">\n",
       "      <th></th>\n",
       "      <th>Watch time(Minutes)</th>\n",
       "      <th>Stream time(minutes)</th>\n",
       "      <th>Peak viewers</th>\n",
       "      <th>Followers</th>\n",
       "      <th>Followers gained</th>\n",
       "      <th>Views gained</th>\n",
       "      <th>Partnered</th>\n",
       "      <th>Mature</th>\n",
       "    </tr>\n",
       "  </thead>\n",
       "  <tbody>\n",
       "    <tr>\n",
       "      <th>Coef</th>\n",
       "      <td>0.726076</td>\n",
       "      <td>-0.680808</td>\n",
       "      <td>0.05976</td>\n",
       "      <td>0.021213</td>\n",
       "      <td>0.018277</td>\n",
       "      <td>0.006903</td>\n",
       "      <td>-0.312851</td>\n",
       "      <td>0.047701</td>\n",
       "    </tr>\n",
       "  </tbody>\n",
       "</table>\n",
       "</div>"
      ],
      "text/plain": [
       "      Watch time(Minutes)  Stream time(minutes)  Peak viewers  Followers  \\\n",
       "Coef             0.726076             -0.680808       0.05976   0.021213   \n",
       "\n",
       "      Followers gained  Views gained  Partnered    Mature  \n",
       "Coef          0.018277      0.006903  -0.312851  0.047701  "
      ]
     },
     "execution_count": 19,
     "metadata": {},
     "output_type": "execute_result"
    }
   ],
   "source": [
    "pd.DataFrame(coef_1, index=[\"Coef\"])"
   ]
  },
  {
   "cell_type": "markdown",
   "id": "a784fa0d",
   "metadata": {
    "id": "a784fa0d"
   },
   "source": [
    "## Setup 2 - Model with selected features (Followers and Stream time)"
   ]
  },
  {
   "cell_type": "code",
   "execution_count": 20,
   "id": "66802294",
   "metadata": {
    "colab": {
     "base_uri": "https://localhost:8080/",
     "height": 206
    },
    "id": "66802294",
    "outputId": "c9a685f1-8a7e-4856-8d95-a8e4960cf2e8"
   },
   "outputs": [
    {
     "data": {
      "text/html": [
       "<div>\n",
       "<style scoped>\n",
       "    .dataframe tbody tr th:only-of-type {\n",
       "        vertical-align: middle;\n",
       "    }\n",
       "\n",
       "    .dataframe tbody tr th {\n",
       "        vertical-align: top;\n",
       "    }\n",
       "\n",
       "    .dataframe thead th {\n",
       "        text-align: right;\n",
       "    }\n",
       "</style>\n",
       "<table border=\"1\" class=\"dataframe\">\n",
       "  <thead>\n",
       "    <tr style=\"text-align: right;\">\n",
       "      <th></th>\n",
       "      <th>Followers</th>\n",
       "      <th>Stream time(minutes)</th>\n",
       "    </tr>\n",
       "  </thead>\n",
       "  <tbody>\n",
       "    <tr>\n",
       "      <th>442</th>\n",
       "      <td>0.564332</td>\n",
       "      <td>0.530329</td>\n",
       "    </tr>\n",
       "    <tr>\n",
       "      <th>601</th>\n",
       "      <td>-0.747395</td>\n",
       "      <td>0.217518</td>\n",
       "    </tr>\n",
       "    <tr>\n",
       "      <th>329</th>\n",
       "      <td>-0.254642</td>\n",
       "      <td>-0.300876</td>\n",
       "    </tr>\n",
       "    <tr>\n",
       "      <th>874</th>\n",
       "      <td>-0.091785</td>\n",
       "      <td>-1.975359</td>\n",
       "    </tr>\n",
       "    <tr>\n",
       "      <th>370</th>\n",
       "      <td>-0.220549</td>\n",
       "      <td>-1.363583</td>\n",
       "    </tr>\n",
       "  </tbody>\n",
       "</table>\n",
       "</div>"
      ],
      "text/plain": [
       "     Followers  Stream time(minutes)\n",
       "442   0.564332              0.530329\n",
       "601  -0.747395              0.217518\n",
       "329  -0.254642             -0.300876\n",
       "874  -0.091785             -1.975359\n",
       "370  -0.220549             -1.363583"
      ]
     },
     "execution_count": 20,
     "metadata": {},
     "output_type": "execute_result"
    }
   ],
   "source": [
    "x_train_selected = x_train[['Followers', 'Stream time(minutes)']]\n",
    "x_train_selected.head()"
   ]
  },
  {
   "cell_type": "code",
   "execution_count": 21,
   "id": "37f5b382",
   "metadata": {
    "colab": {
     "base_uri": "https://localhost:8080/",
     "height": 206
    },
    "id": "37f5b382",
    "outputId": "b274925d-4a3e-4700-954f-94f281989e1f"
   },
   "outputs": [
    {
     "data": {
      "text/html": [
       "<div>\n",
       "<style scoped>\n",
       "    .dataframe tbody tr th:only-of-type {\n",
       "        vertical-align: middle;\n",
       "    }\n",
       "\n",
       "    .dataframe tbody tr th {\n",
       "        vertical-align: top;\n",
       "    }\n",
       "\n",
       "    .dataframe thead th {\n",
       "        text-align: right;\n",
       "    }\n",
       "</style>\n",
       "<table border=\"1\" class=\"dataframe\">\n",
       "  <thead>\n",
       "    <tr style=\"text-align: right;\">\n",
       "      <th></th>\n",
       "      <th>Followers</th>\n",
       "      <th>Stream time(minutes)</th>\n",
       "    </tr>\n",
       "  </thead>\n",
       "  <tbody>\n",
       "    <tr>\n",
       "      <th>709</th>\n",
       "      <td>-0.699130</td>\n",
       "      <td>-0.545160</td>\n",
       "    </tr>\n",
       "    <tr>\n",
       "      <th>350</th>\n",
       "      <td>0.329704</td>\n",
       "      <td>-0.748612</td>\n",
       "    </tr>\n",
       "    <tr>\n",
       "      <th>388</th>\n",
       "      <td>-0.117864</td>\n",
       "      <td>-0.136836</td>\n",
       "    </tr>\n",
       "    <tr>\n",
       "      <th>736</th>\n",
       "      <td>0.113554</td>\n",
       "      <td>1.402367</td>\n",
       "    </tr>\n",
       "    <tr>\n",
       "      <th>996</th>\n",
       "      <td>-0.403593</td>\n",
       "      <td>0.950725</td>\n",
       "    </tr>\n",
       "  </tbody>\n",
       "</table>\n",
       "</div>"
      ],
      "text/plain": [
       "     Followers  Stream time(minutes)\n",
       "709  -0.699130             -0.545160\n",
       "350   0.329704             -0.748612\n",
       "388  -0.117864             -0.136836\n",
       "736   0.113554              1.402367\n",
       "996  -0.403593              0.950725"
      ]
     },
     "execution_count": 21,
     "metadata": {},
     "output_type": "execute_result"
    }
   ],
   "source": [
    "x_test_selected = x_test[['Followers', 'Stream time(minutes)']]\n",
    "x_test_selected.head()"
   ]
  },
  {
   "cell_type": "code",
   "execution_count": 22,
   "id": "e8d7edd0",
   "metadata": {
    "colab": {
     "base_uri": "https://localhost:8080/",
     "height": 595
    },
    "id": "e8d7edd0",
    "outputId": "4cdb9176-72c5-4dd2-d8d9-144d957ebf16"
   },
   "outputs": [
    {
     "name": "stdout",
     "output_type": "stream",
     "text": [
      "Intercept:  -0.01419497672320232\n"
     ]
    },
    {
     "name": "stderr",
     "output_type": "stream",
     "text": [
      "C:\\Users\\User\\AppData\\Local\\Temp\\ipykernel_17252\\3674765435.py:13: FutureWarning: The frame.append method is deprecated and will be removed from pandas in a future version. Use pandas.concat instead.\n",
      "  eval_results = eval_results.append(setup_2_eval, ignore_index=True)\n"
     ]
    },
    {
     "data": {
      "text/html": [
       "<div>\n",
       "<style scoped>\n",
       "    .dataframe tbody tr th:only-of-type {\n",
       "        vertical-align: middle;\n",
       "    }\n",
       "\n",
       "    .dataframe tbody tr th {\n",
       "        vertical-align: top;\n",
       "    }\n",
       "\n",
       "    .dataframe thead th {\n",
       "        text-align: right;\n",
       "    }\n",
       "</style>\n",
       "<table border=\"1\" class=\"dataframe\">\n",
       "  <thead>\n",
       "    <tr style=\"text-align: right;\">\n",
       "      <th></th>\n",
       "      <th>Predictor/s</th>\n",
       "      <th>R2</th>\n",
       "      <th>MAE</th>\n",
       "      <th>MSE</th>\n",
       "      <th>RMSE</th>\n",
       "      <th>Regression Score</th>\n",
       "      <th>Cross-Val Mean</th>\n",
       "    </tr>\n",
       "  </thead>\n",
       "  <tbody>\n",
       "    <tr>\n",
       "      <th>0</th>\n",
       "      <td>All</td>\n",
       "      <td>80.503011</td>\n",
       "      <td>0.287223</td>\n",
       "      <td>0.162777</td>\n",
       "      <td>0.403456</td>\n",
       "      <td>0.827471</td>\n",
       "      <td>70.89072</td>\n",
       "    </tr>\n",
       "    <tr>\n",
       "      <th>1</th>\n",
       "      <td>Followers, Stream time(minutes)</td>\n",
       "      <td>-71.367993</td>\n",
       "      <td>0.602017</td>\n",
       "      <td>0.58566</td>\n",
       "      <td>0.765284</td>\n",
       "      <td>0.379254</td>\n",
       "      <td>-6.129891</td>\n",
       "    </tr>\n",
       "  </tbody>\n",
       "</table>\n",
       "</div>"
      ],
      "text/plain": [
       "                       Predictor/s         R2       MAE       MSE      RMSE  \\\n",
       "0                              All  80.503011  0.287223  0.162777  0.403456   \n",
       "1  Followers, Stream time(minutes) -71.367993  0.602017   0.58566  0.765284   \n",
       "\n",
       "  Regression Score Cross-Val Mean  \n",
       "0         0.827471       70.89072  \n",
       "1         0.379254      -6.129891  "
      ]
     },
     "execution_count": 22,
     "metadata": {},
     "output_type": "execute_result"
    },
    {
     "data": {
      "image/png": "[encoded data removed]",
      "text/plain": [
       "<Figure size 720x504 with 1 Axes>"
      ]
     },
     "metadata": {
      "needs_background": "light"
     },
     "output_type": "display_data"
    }
   ],
   "source": [
    "# Predict\n",
    "setup_2_pred, coef_2, regr_score_2 = linear_regression(x_train_selected, y_train, x_test_selected)\n",
    "\n",
    "# Evaluation\n",
    "setup_2_eval = evaluate_model(setup_2_pred, y_test)\n",
    "\n",
    "# Cross Validation\n",
    "cv_score = cross_val_score(LinearRegression(), x[x_train_selected.columns], y, cv=10)\n",
    "\n",
    "# Compile evaluation results\n",
    "setup_2_eval.update({\"Predictor/s\": \", \".join(x_train_selected.columns), \"Cross-Val Mean\": cv_score.mean() * 100, \"Regression Score\": regr_score_2})\n",
    "\n",
    "eval_results = eval_results.append(setup_2_eval, ignore_index=True)\n",
    "eval_results"
   ]
  },
  {
   "cell_type": "code",
   "execution_count": 23,
   "id": "g4JtU4s0cYEz",
   "metadata": {
    "colab": {
     "base_uri": "https://localhost:8080/",
     "height": 81
    },
    "id": "g4JtU4s0cYEz",
    "outputId": "984fd276-c362-45c7-8d13-ba940b80e41b"
   },
   "outputs": [
    {
     "data": {
      "text/html": [
       "<div>\n",
       "<style scoped>\n",
       "    .dataframe tbody tr th:only-of-type {\n",
       "        vertical-align: middle;\n",
       "    }\n",
       "\n",
       "    .dataframe tbody tr th {\n",
       "        vertical-align: top;\n",
       "    }\n",
       "\n",
       "    .dataframe thead th {\n",
       "        text-align: right;\n",
       "    }\n",
       "</style>\n",
       "<table border=\"1\" class=\"dataframe\">\n",
       "  <thead>\n",
       "    <tr style=\"text-align: right;\">\n",
       "      <th></th>\n",
       "      <th>Followers</th>\n",
       "      <th>Stream time(minutes)</th>\n",
       "    </tr>\n",
       "  </thead>\n",
       "  <tbody>\n",
       "    <tr>\n",
       "      <th>Coef</th>\n",
       "      <td>0.292029</td>\n",
       "      <td>-0.491101</td>\n",
       "    </tr>\n",
       "  </tbody>\n",
       "</table>\n",
       "</div>"
      ],
      "text/plain": [
       "      Followers  Stream time(minutes)\n",
       "Coef   0.292029             -0.491101"
      ]
     },
     "execution_count": 23,
     "metadata": {},
     "output_type": "execute_result"
    }
   ],
   "source": [
    "pd.DataFrame(coef_2, index=[\"Coef\"])"
   ]
  },
  {
   "cell_type": "markdown",
   "id": "10b208d1",
   "metadata": {
    "id": "10b208d1"
   },
   "source": [
    "## Setup 3 - Feature Selection with Pearson Correlation"
   ]
  },
  {
   "cell_type": "markdown",
   "id": "dec1a791",
   "metadata": {
    "id": "dec1a791"
   },
   "source": [
    "### Pearson Correlation"
   ]
  },
  {
   "cell_type": "code",
   "execution_count": 24,
   "id": "3186d1f9",
   "metadata": {
    "colab": {
     "base_uri": "https://localhost:8080/",
     "height": 732
    },
    "id": "3186d1f9",
    "outputId": "ef197eb9-5e74-4e9e-9051-1a44540076a0"
   },
   "outputs": [
    {
     "data": {
      "image/png": "[encoded data removed]",
      "text/plain": [
       "<Figure size 720x576 with 2 Axes>"
      ]
     },
     "metadata": {
      "needs_background": "light"
     },
     "output_type": "display_data"
    }
   ],
   "source": [
    "cor = x_train.corr()\n",
    "plt.figure(figsize=(10,8))\n",
    "sns.heatmap(cor, cmap=plt.cm.CMRmap_r,annot=True)\n",
    "plt.show() \n",
    "\n",
    "# NOTE: If the value is near to 1, the two features are correlated and we can drop any one of them (https://www.naukri.com/learning/articles/feature-selection-techniques-python-code/)"
   ]
  },
  {
   "cell_type": "markdown",
   "id": "3dbad060",
   "metadata": {
    "id": "3dbad060"
   },
   "source": [
    "#### Finding correlated features"
   ]
  },
  {
   "cell_type": "code",
   "execution_count": 25,
   "id": "eac5b0b0",
   "metadata": {
    "id": "eac5b0b0"
   },
   "outputs": [],
   "source": [
    "# Selects highly correlated features\n",
    "def correlation(data, threshold):\n",
    "    col_corr = set()  \n",
    "    corr_matrix = data.corr()\n",
    "    for i in range(len(corr_matrix.columns)):\n",
    "        for j in range(i):\n",
    "            if abs(corr_matrix.iloc[i, j]) > threshold:\n",
    "                colname = corr_matrix.columns[i]                  \n",
    "                col_corr.add(colname)\n",
    "\n",
    "    return col_corr "
   ]
  },
  {
   "cell_type": "markdown",
   "id": "ZSZrVKd18zL6",
   "metadata": {
    "id": "ZSZrVKd18zL6"
   },
   "source": [
    "### Different correlation thresholds (0.3, 0.4, 0.5)"
   ]
  },
  {
   "cell_type": "code",
   "execution_count": 26,
   "id": "04c5cb98",
   "metadata": {
    "colab": {
     "base_uri": "https://localhost:8080/"
    },
    "id": "04c5cb98",
    "outputId": "323b6b2a-9f41-422f-8e30-637b9724b93b"
   },
   "outputs": [
    {
     "name": "stdout",
     "output_type": "stream",
     "text": [
      "{'Views gained', 'Peak viewers', 'Followers gained', 'Followers'}\n",
      "{'Views gained', 'Followers gained'}\n",
      "{'Views gained'}\n"
     ]
    }
   ],
   "source": [
    "# Using different correlation thresholds\n",
    "corr_features_1 = correlation(x_train, 0.3)\n",
    "print(corr_features_1)\n",
    "\n",
    "corr_features_2 = correlation(x_train, 0.4) \n",
    "print(corr_features_2)\n",
    "\n",
    "corr_features_3 = correlation(x_train, 0.5) \n",
    "print(corr_features_3)"
   ]
  },
  {
   "cell_type": "markdown",
   "id": "633c73d7",
   "metadata": {
    "id": "633c73d7"
   },
   "source": [
    "## Setup 3.1: Selected features with threshold=0.3 (weak correlations)"
   ]
  },
  {
   "cell_type": "code",
   "execution_count": 27,
   "id": "73a51083",
   "metadata": {
    "colab": {
     "base_uri": "https://localhost:8080/",
     "height": 206
    },
    "id": "73a51083",
    "outputId": "b5a2d767-4871-4724-c67a-8b1a3decd191"
   },
   "outputs": [
    {
     "data": {
      "text/html": [
       "<div>\n",
       "<style scoped>\n",
       "    .dataframe tbody tr th:only-of-type {\n",
       "        vertical-align: middle;\n",
       "    }\n",
       "\n",
       "    .dataframe tbody tr th {\n",
       "        vertical-align: top;\n",
       "    }\n",
       "\n",
       "    .dataframe thead th {\n",
       "        text-align: right;\n",
       "    }\n",
       "</style>\n",
       "<table border=\"1\" class=\"dataframe\">\n",
       "  <thead>\n",
       "    <tr style=\"text-align: right;\">\n",
       "      <th></th>\n",
       "      <th>Watch time(Minutes)</th>\n",
       "      <th>Stream time(minutes)</th>\n",
       "      <th>Partnered</th>\n",
       "      <th>Mature</th>\n",
       "    </tr>\n",
       "  </thead>\n",
       "  <tbody>\n",
       "    <tr>\n",
       "      <th>442</th>\n",
       "      <td>0.283108</td>\n",
       "      <td>0.530329</td>\n",
       "      <td>1</td>\n",
       "      <td>0</td>\n",
       "    </tr>\n",
       "    <tr>\n",
       "      <th>601</th>\n",
       "      <td>-0.277294</td>\n",
       "      <td>0.217518</td>\n",
       "      <td>1</td>\n",
       "      <td>0</td>\n",
       "    </tr>\n",
       "    <tr>\n",
       "      <th>329</th>\n",
       "      <td>0.978568</td>\n",
       "      <td>-0.300876</td>\n",
       "      <td>1</td>\n",
       "      <td>1</td>\n",
       "    </tr>\n",
       "    <tr>\n",
       "      <th>874</th>\n",
       "      <td>-0.807360</td>\n",
       "      <td>-1.975359</td>\n",
       "      <td>1</td>\n",
       "      <td>0</td>\n",
       "    </tr>\n",
       "    <tr>\n",
       "      <th>370</th>\n",
       "      <td>0.684944</td>\n",
       "      <td>-1.363583</td>\n",
       "      <td>1</td>\n",
       "      <td>0</td>\n",
       "    </tr>\n",
       "  </tbody>\n",
       "</table>\n",
       "</div>"
      ],
      "text/plain": [
       "     Watch time(Minutes)  Stream time(minutes)  Partnered  Mature\n",
       "442             0.283108              0.530329          1       0\n",
       "601            -0.277294              0.217518          1       0\n",
       "329             0.978568             -0.300876          1       1\n",
       "874            -0.807360             -1.975359          1       0\n",
       "370             0.684944             -1.363583          1       0"
      ]
     },
     "execution_count": 27,
     "metadata": {},
     "output_type": "execute_result"
    }
   ],
   "source": [
    "x_train_selected_1 = x_train.drop(corr_features_1, axis=1)\n",
    "x_test_selected_1 = x_test.drop(corr_features_1, axis=1)\n",
    "\n",
    "x_train_selected_1.head()"
   ]
  },
  {
   "cell_type": "code",
   "execution_count": 28,
   "id": "c282b89c",
   "metadata": {
    "colab": {
     "base_uri": "https://localhost:8080/",
     "height": 626
    },
    "id": "c282b89c",
    "outputId": "0f5f4179-7753-4d1e-a9e8-d2fdd725fe3f"
   },
   "outputs": [
    {
     "name": "stdout",
     "output_type": "stream",
     "text": [
      "Intercept:  0.2603301825528816\n"
     ]
    },
    {
     "name": "stderr",
     "output_type": "stream",
     "text": [
      "C:\\Users\\User\\AppData\\Local\\Temp\\ipykernel_17252\\1561624480.py:13: FutureWarning: The frame.append method is deprecated and will be removed from pandas in a future version. Use pandas.concat instead.\n",
      "  eval_results = eval_results.append(setup_3_1_eval, ignore_index=True)\n"
     ]
    },
    {
     "data": {
      "text/html": [
       "<div>\n",
       "<style scoped>\n",
       "    .dataframe tbody tr th:only-of-type {\n",
       "        vertical-align: middle;\n",
       "    }\n",
       "\n",
       "    .dataframe tbody tr th {\n",
       "        vertical-align: top;\n",
       "    }\n",
       "\n",
       "    .dataframe thead th {\n",
       "        text-align: right;\n",
       "    }\n",
       "</style>\n",
       "<table border=\"1\" class=\"dataframe\">\n",
       "  <thead>\n",
       "    <tr style=\"text-align: right;\">\n",
       "      <th></th>\n",
       "      <th>Predictor/s</th>\n",
       "      <th>R2</th>\n",
       "      <th>MAE</th>\n",
       "      <th>MSE</th>\n",
       "      <th>RMSE</th>\n",
       "      <th>Regression Score</th>\n",
       "      <th>Cross-Val Mean</th>\n",
       "    </tr>\n",
       "  </thead>\n",
       "  <tbody>\n",
       "    <tr>\n",
       "      <th>0</th>\n",
       "      <td>All</td>\n",
       "      <td>80.503011</td>\n",
       "      <td>0.287223</td>\n",
       "      <td>0.162777</td>\n",
       "      <td>0.403456</td>\n",
       "      <td>0.827471</td>\n",
       "      <td>70.89072</td>\n",
       "    </tr>\n",
       "    <tr>\n",
       "      <th>1</th>\n",
       "      <td>Followers, Stream time(minutes)</td>\n",
       "      <td>-71.367993</td>\n",
       "      <td>0.602017</td>\n",
       "      <td>0.58566</td>\n",
       "      <td>0.765284</td>\n",
       "      <td>0.379254</td>\n",
       "      <td>-6.129891</td>\n",
       "    </tr>\n",
       "    <tr>\n",
       "      <th>2</th>\n",
       "      <td>Watch time(Minutes), Stream time(minutes), Par...</td>\n",
       "      <td>80.575612</td>\n",
       "      <td>0.297512</td>\n",
       "      <td>0.162575</td>\n",
       "      <td>0.403206</td>\n",
       "      <td>0.827686</td>\n",
       "      <td>70.514282</td>\n",
       "    </tr>\n",
       "  </tbody>\n",
       "</table>\n",
       "</div>"
      ],
      "text/plain": [
       "                                         Predictor/s         R2       MAE  \\\n",
       "0                                                All  80.503011  0.287223   \n",
       "1                    Followers, Stream time(minutes) -71.367993  0.602017   \n",
       "2  Watch time(Minutes), Stream time(minutes), Par...  80.575612  0.297512   \n",
       "\n",
       "        MSE      RMSE Regression Score Cross-Val Mean  \n",
       "0  0.162777  0.403456         0.827471       70.89072  \n",
       "1   0.58566  0.765284         0.379254      -6.129891  \n",
       "2  0.162575  0.403206         0.827686      70.514282  "
      ]
     },
     "execution_count": 28,
     "metadata": {},
     "output_type": "execute_result"
    },
    {
     "data": {
      "image/png": "[encoded data removed]",
      "text/plain": [
       "<Figure size 720x504 with 1 Axes>"
      ]
     },
     "metadata": {
      "needs_background": "light"
     },
     "output_type": "display_data"
    }
   ],
   "source": [
    "# Predict\n",
    "setup_3_1_pred, coef_3_1, regr_score_3_1 = linear_regression(x_train_selected_1, y_train, x_test_selected_1)\n",
    "\n",
    "# Evaluation\n",
    "setup_3_1_eval = evaluate_model(setup_3_1_pred, y_test)\n",
    "\n",
    "# Cross Validation\n",
    "cv_score = cross_val_score(LinearRegression(), x[x_train_selected_1.columns], y, cv=10)\n",
    "\n",
    "# Compile evaluation results\n",
    "setup_3_1_eval.update({\"Predictor/s\": \", \".join(x_train_selected_1.columns), \"Cross-Val Mean\": cv_score.mean() * 100, \"Regression Score\": regr_score_3_1})\n",
    "\n",
    "eval_results = eval_results.append(setup_3_1_eval, ignore_index=True)\n",
    "eval_results"
   ]
  },
  {
   "cell_type": "code",
   "execution_count": 29,
   "id": "2986c6ff",
   "metadata": {
    "colab": {
     "base_uri": "https://localhost:8080/",
     "height": 81
    },
    "id": "2986c6ff",
    "outputId": "d37c345f-33b7-46c9-9afb-8393b6dc5fb8"
   },
   "outputs": [
    {
     "data": {
      "text/html": [
       "<div>\n",
       "<style scoped>\n",
       "    .dataframe tbody tr th:only-of-type {\n",
       "        vertical-align: middle;\n",
       "    }\n",
       "\n",
       "    .dataframe tbody tr th {\n",
       "        vertical-align: top;\n",
       "    }\n",
       "\n",
       "    .dataframe thead th {\n",
       "        text-align: right;\n",
       "    }\n",
       "</style>\n",
       "<table border=\"1\" class=\"dataframe\">\n",
       "  <thead>\n",
       "    <tr style=\"text-align: right;\">\n",
       "      <th></th>\n",
       "      <th>Watch time(Minutes)</th>\n",
       "      <th>Stream time(minutes)</th>\n",
       "      <th>Partnered</th>\n",
       "      <th>Mature</th>\n",
       "    </tr>\n",
       "  </thead>\n",
       "  <tbody>\n",
       "    <tr>\n",
       "      <th>Coef</th>\n",
       "      <td>0.762565</td>\n",
       "      <td>-0.720557</td>\n",
       "      <td>-0.273532</td>\n",
       "      <td>0.025943</td>\n",
       "    </tr>\n",
       "  </tbody>\n",
       "</table>\n",
       "</div>"
      ],
      "text/plain": [
       "      Watch time(Minutes)  Stream time(minutes)  Partnered    Mature\n",
       "Coef             0.762565             -0.720557  -0.273532  0.025943"
      ]
     },
     "execution_count": 29,
     "metadata": {},
     "output_type": "execute_result"
    }
   ],
   "source": [
    "pd.DataFrame(coef_3_1, index=[\"Coef\"])"
   ]
  },
  {
   "cell_type": "markdown",
   "id": "b76c057d",
   "metadata": {
    "id": "b76c057d"
   },
   "source": [
    "## Setup 3.2: Selected features with threshold=0.4"
   ]
  },
  {
   "cell_type": "code",
   "execution_count": 30,
   "id": "8abc3f2d",
   "metadata": {
    "colab": {
     "base_uri": "https://localhost:8080/",
     "height": 206
    },
    "id": "8abc3f2d",
    "outputId": "df562b4b-ea6e-4f8e-cbb8-c3c7074de3c1"
   },
   "outputs": [
    {
     "data": {
      "text/html": [
       "<div>\n",
       "<style scoped>\n",
       "    .dataframe tbody tr th:only-of-type {\n",
       "        vertical-align: middle;\n",
       "    }\n",
       "\n",
       "    .dataframe tbody tr th {\n",
       "        vertical-align: top;\n",
       "    }\n",
       "\n",
       "    .dataframe thead th {\n",
       "        text-align: right;\n",
       "    }\n",
       "</style>\n",
       "<table border=\"1\" class=\"dataframe\">\n",
       "  <thead>\n",
       "    <tr style=\"text-align: right;\">\n",
       "      <th></th>\n",
       "      <th>Watch time(Minutes)</th>\n",
       "      <th>Stream time(minutes)</th>\n",
       "      <th>Peak viewers</th>\n",
       "      <th>Followers</th>\n",
       "      <th>Partnered</th>\n",
       "      <th>Mature</th>\n",
       "    </tr>\n",
       "  </thead>\n",
       "  <tbody>\n",
       "    <tr>\n",
       "      <th>442</th>\n",
       "      <td>0.283108</td>\n",
       "      <td>0.530329</td>\n",
       "      <td>-0.644998</td>\n",
       "      <td>0.564332</td>\n",
       "      <td>1</td>\n",
       "      <td>0</td>\n",
       "    </tr>\n",
       "    <tr>\n",
       "      <th>601</th>\n",
       "      <td>-0.277294</td>\n",
       "      <td>0.217518</td>\n",
       "      <td>-0.790822</td>\n",
       "      <td>-0.747395</td>\n",
       "      <td>1</td>\n",
       "      <td>0</td>\n",
       "    </tr>\n",
       "    <tr>\n",
       "      <th>329</th>\n",
       "      <td>0.978568</td>\n",
       "      <td>-0.300876</td>\n",
       "      <td>0.834659</td>\n",
       "      <td>-0.254642</td>\n",
       "      <td>1</td>\n",
       "      <td>1</td>\n",
       "    </tr>\n",
       "    <tr>\n",
       "      <th>874</th>\n",
       "      <td>-0.807360</td>\n",
       "      <td>-1.975359</td>\n",
       "      <td>2.890568</td>\n",
       "      <td>-0.091785</td>\n",
       "      <td>1</td>\n",
       "      <td>0</td>\n",
       "    </tr>\n",
       "    <tr>\n",
       "      <th>370</th>\n",
       "      <td>0.684944</td>\n",
       "      <td>-1.363583</td>\n",
       "      <td>3.787309</td>\n",
       "      <td>-0.220549</td>\n",
       "      <td>1</td>\n",
       "      <td>0</td>\n",
       "    </tr>\n",
       "  </tbody>\n",
       "</table>\n",
       "</div>"
      ],
      "text/plain": [
       "     Watch time(Minutes)  Stream time(minutes)  Peak viewers  Followers  \\\n",
       "442             0.283108              0.530329     -0.644998   0.564332   \n",
       "601            -0.277294              0.217518     -0.790822  -0.747395   \n",
       "329             0.978568             -0.300876      0.834659  -0.254642   \n",
       "874            -0.807360             -1.975359      2.890568  -0.091785   \n",
       "370             0.684944             -1.363583      3.787309  -0.220549   \n",
       "\n",
       "     Partnered  Mature  \n",
       "442          1       0  \n",
       "601          1       0  \n",
       "329          1       1  \n",
       "874          1       0  \n",
       "370          1       0  "
      ]
     },
     "execution_count": 30,
     "metadata": {},
     "output_type": "execute_result"
    }
   ],
   "source": [
    "x_train_selected_2 = x_train.drop(corr_features_2, axis=1)\n",
    "x_test_selected_2 = x_test.drop(corr_features_2,axis=1)\n",
    "\n",
    "x_train_selected_2.head()"
   ]
  },
  {
   "cell_type": "code",
   "execution_count": 31,
   "id": "e88c2338",
   "metadata": {
    "colab": {
     "base_uri": "https://localhost:8080/",
     "height": 658
    },
    "id": "e88c2338",
    "outputId": "7460f784-911d-48d6-fbeb-e1655d37ed71"
   },
   "outputs": [
    {
     "name": "stdout",
     "output_type": "stream",
     "text": [
      "Intercept:  0.29777710951312125\n"
     ]
    },
    {
     "name": "stderr",
     "output_type": "stream",
     "text": [
      "C:\\Users\\User\\AppData\\Local\\Temp\\ipykernel_17252\\3087918405.py:13: FutureWarning: The frame.append method is deprecated and will be removed from pandas in a future version. Use pandas.concat instead.\n",
      "  eval_results = eval_results.append(setup_3_2_eval, ignore_index=True)\n"
     ]
    },
    {
     "data": {
      "text/html": [
       "<div>\n",
       "<style scoped>\n",
       "    .dataframe tbody tr th:only-of-type {\n",
       "        vertical-align: middle;\n",
       "    }\n",
       "\n",
       "    .dataframe tbody tr th {\n",
       "        vertical-align: top;\n",
       "    }\n",
       "\n",
       "    .dataframe thead th {\n",
       "        text-align: right;\n",
       "    }\n",
       "</style>\n",
       "<table border=\"1\" class=\"dataframe\">\n",
       "  <thead>\n",
       "    <tr style=\"text-align: right;\">\n",
       "      <th></th>\n",
       "      <th>Predictor/s</th>\n",
       "      <th>R2</th>\n",
       "      <th>MAE</th>\n",
       "      <th>MSE</th>\n",
       "      <th>RMSE</th>\n",
       "      <th>Regression Score</th>\n",
       "      <th>Cross-Val Mean</th>\n",
       "    </tr>\n",
       "  </thead>\n",
       "  <tbody>\n",
       "    <tr>\n",
       "      <th>0</th>\n",
       "      <td>All</td>\n",
       "      <td>80.503011</td>\n",
       "      <td>0.287223</td>\n",
       "      <td>0.162777</td>\n",
       "      <td>0.403456</td>\n",
       "      <td>0.827471</td>\n",
       "      <td>70.89072</td>\n",
       "    </tr>\n",
       "    <tr>\n",
       "      <th>1</th>\n",
       "      <td>Followers, Stream time(minutes)</td>\n",
       "      <td>-71.367993</td>\n",
       "      <td>0.602017</td>\n",
       "      <td>0.58566</td>\n",
       "      <td>0.765284</td>\n",
       "      <td>0.379254</td>\n",
       "      <td>-6.129891</td>\n",
       "    </tr>\n",
       "    <tr>\n",
       "      <th>2</th>\n",
       "      <td>Watch time(Minutes), Stream time(minutes), Par...</td>\n",
       "      <td>80.575612</td>\n",
       "      <td>0.297512</td>\n",
       "      <td>0.162575</td>\n",
       "      <td>0.403206</td>\n",
       "      <td>0.827686</td>\n",
       "      <td>70.514282</td>\n",
       "    </tr>\n",
       "    <tr>\n",
       "      <th>3</th>\n",
       "      <td>Watch time(Minutes), Stream time(minutes), Pea...</td>\n",
       "      <td>80.730591</td>\n",
       "      <td>0.285443</td>\n",
       "      <td>0.160915</td>\n",
       "      <td>0.401142</td>\n",
       "      <td>0.829445</td>\n",
       "      <td>71.12983</td>\n",
       "    </tr>\n",
       "  </tbody>\n",
       "</table>\n",
       "</div>"
      ],
      "text/plain": [
       "                                         Predictor/s         R2       MAE  \\\n",
       "0                                                All  80.503011  0.287223   \n",
       "1                    Followers, Stream time(minutes) -71.367993  0.602017   \n",
       "2  Watch time(Minutes), Stream time(minutes), Par...  80.575612  0.297512   \n",
       "3  Watch time(Minutes), Stream time(minutes), Pea...  80.730591  0.285443   \n",
       "\n",
       "        MSE      RMSE Regression Score Cross-Val Mean  \n",
       "0  0.162777  0.403456         0.827471       70.89072  \n",
       "1   0.58566  0.765284         0.379254      -6.129891  \n",
       "2  0.162575  0.403206         0.827686      70.514282  \n",
       "3  0.160915  0.401142         0.829445       71.12983  "
      ]
     },
     "execution_count": 31,
     "metadata": {},
     "output_type": "execute_result"
    },
    {
     "data": {
      "image/png": "[encoded data removed]",
      "text/plain": [
       "<Figure size 720x504 with 1 Axes>"
      ]
     },
     "metadata": {
      "needs_background": "light"
     },
     "output_type": "display_data"
    }
   ],
   "source": [
    "# Predict\n",
    "setup_3_2_pred, coef_3_2, regr_score_3_2 = linear_regression(x_train_selected_2, y_train, x_test_selected_2)\n",
    "\n",
    "# Evaluation\n",
    "setup_3_2_eval = evaluate_model(setup_3_2_pred, y_test)\n",
    "\n",
    "# Cross Validation\n",
    "cv_score = cross_val_score(LinearRegression(), x[x_train_selected_2.columns], y, cv=10)\n",
    "\n",
    "# Compile evaluation results\n",
    "setup_3_2_eval.update({\"Predictor/s\": \", \".join(x_train_selected_2.columns), \"Cross-Val Mean\": cv_score.mean() * 100, \"Regression Score\": regr_score_3_2})\n",
    "\n",
    "eval_results = eval_results.append(setup_3_2_eval, ignore_index=True)\n",
    "eval_results"
   ]
  },
  {
   "cell_type": "code",
   "execution_count": 32,
   "id": "iuJp6UHGdq-G",
   "metadata": {
    "colab": {
     "base_uri": "https://localhost:8080/",
     "height": 81
    },
    "id": "iuJp6UHGdq-G",
    "outputId": "8a4b72fe-ce73-4ddd-a92a-c3441a631926"
   },
   "outputs": [
    {
     "data": {
      "text/html": [
       "<div>\n",
       "<style scoped>\n",
       "    .dataframe tbody tr th:only-of-type {\n",
       "        vertical-align: middle;\n",
       "    }\n",
       "\n",
       "    .dataframe tbody tr th {\n",
       "        vertical-align: top;\n",
       "    }\n",
       "\n",
       "    .dataframe thead th {\n",
       "        text-align: right;\n",
       "    }\n",
       "</style>\n",
       "<table border=\"1\" class=\"dataframe\">\n",
       "  <thead>\n",
       "    <tr style=\"text-align: right;\">\n",
       "      <th></th>\n",
       "      <th>Watch time(Minutes)</th>\n",
       "      <th>Stream time(minutes)</th>\n",
       "      <th>Peak viewers</th>\n",
       "      <th>Followers</th>\n",
       "      <th>Partnered</th>\n",
       "      <th>Mature</th>\n",
       "    </tr>\n",
       "  </thead>\n",
       "  <tbody>\n",
       "    <tr>\n",
       "      <th>Coef</th>\n",
       "      <td>0.72955</td>\n",
       "      <td>-0.684541</td>\n",
       "      <td>0.064437</td>\n",
       "      <td>0.028368</td>\n",
       "      <td>-0.316929</td>\n",
       "      <td>0.043872</td>\n",
       "    </tr>\n",
       "  </tbody>\n",
       "</table>\n",
       "</div>"
      ],
      "text/plain": [
       "      Watch time(Minutes)  Stream time(minutes)  Peak viewers  Followers  \\\n",
       "Coef              0.72955             -0.684541      0.064437   0.028368   \n",
       "\n",
       "      Partnered    Mature  \n",
       "Coef  -0.316929  0.043872  "
      ]
     },
     "execution_count": 32,
     "metadata": {},
     "output_type": "execute_result"
    }
   ],
   "source": [
    "pd.DataFrame(coef_3_2, index=[\"Coef\"])"
   ]
  },
  {
   "cell_type": "markdown",
   "id": "ca8a48b6",
   "metadata": {
    "id": "ca8a48b6"
   },
   "source": [
    "## Setup 3.3 Selected features with threshold=0.5"
   ]
  },
  {
   "cell_type": "code",
   "execution_count": 33,
   "id": "8e5030ed",
   "metadata": {
    "colab": {
     "base_uri": "https://localhost:8080/",
     "height": 206
    },
    "id": "8e5030ed",
    "outputId": "cc679c4c-3a33-42b1-ee9e-34cb89ba8856"
   },
   "outputs": [
    {
     "data": {
      "text/html": [
       "<div>\n",
       "<style scoped>\n",
       "    .dataframe tbody tr th:only-of-type {\n",
       "        vertical-align: middle;\n",
       "    }\n",
       "\n",
       "    .dataframe tbody tr th {\n",
       "        vertical-align: top;\n",
       "    }\n",
       "\n",
       "    .dataframe thead th {\n",
       "        text-align: right;\n",
       "    }\n",
       "</style>\n",
       "<table border=\"1\" class=\"dataframe\">\n",
       "  <thead>\n",
       "    <tr style=\"text-align: right;\">\n",
       "      <th></th>\n",
       "      <th>Watch time(Minutes)</th>\n",
       "      <th>Stream time(minutes)</th>\n",
       "      <th>Peak viewers</th>\n",
       "      <th>Followers</th>\n",
       "      <th>Followers gained</th>\n",
       "      <th>Partnered</th>\n",
       "      <th>Mature</th>\n",
       "    </tr>\n",
       "  </thead>\n",
       "  <tbody>\n",
       "    <tr>\n",
       "      <th>442</th>\n",
       "      <td>0.283108</td>\n",
       "      <td>0.530329</td>\n",
       "      <td>-0.644998</td>\n",
       "      <td>0.564332</td>\n",
       "      <td>1.518808</td>\n",
       "      <td>1</td>\n",
       "      <td>0</td>\n",
       "    </tr>\n",
       "    <tr>\n",
       "      <th>601</th>\n",
       "      <td>-0.277294</td>\n",
       "      <td>0.217518</td>\n",
       "      <td>-0.790822</td>\n",
       "      <td>-0.747395</td>\n",
       "      <td>-0.429742</td>\n",
       "      <td>1</td>\n",
       "      <td>0</td>\n",
       "    </tr>\n",
       "    <tr>\n",
       "      <th>329</th>\n",
       "      <td>0.978568</td>\n",
       "      <td>-0.300876</td>\n",
       "      <td>0.834659</td>\n",
       "      <td>-0.254642</td>\n",
       "      <td>0.169047</td>\n",
       "      <td>1</td>\n",
       "      <td>1</td>\n",
       "    </tr>\n",
       "    <tr>\n",
       "      <th>874</th>\n",
       "      <td>-0.807360</td>\n",
       "      <td>-1.975359</td>\n",
       "      <td>2.890568</td>\n",
       "      <td>-0.091785</td>\n",
       "      <td>2.013525</td>\n",
       "      <td>1</td>\n",
       "      <td>0</td>\n",
       "    </tr>\n",
       "    <tr>\n",
       "      <th>370</th>\n",
       "      <td>0.684944</td>\n",
       "      <td>-1.363583</td>\n",
       "      <td>3.787309</td>\n",
       "      <td>-0.220549</td>\n",
       "      <td>-0.323478</td>\n",
       "      <td>1</td>\n",
       "      <td>0</td>\n",
       "    </tr>\n",
       "  </tbody>\n",
       "</table>\n",
       "</div>"
      ],
      "text/plain": [
       "     Watch time(Minutes)  Stream time(minutes)  Peak viewers  Followers  \\\n",
       "442             0.283108              0.530329     -0.644998   0.564332   \n",
       "601            -0.277294              0.217518     -0.790822  -0.747395   \n",
       "329             0.978568             -0.300876      0.834659  -0.254642   \n",
       "874            -0.807360             -1.975359      2.890568  -0.091785   \n",
       "370             0.684944             -1.363583      3.787309  -0.220549   \n",
       "\n",
       "     Followers gained  Partnered  Mature  \n",
       "442          1.518808          1       0  \n",
       "601         -0.429742          1       0  \n",
       "329          0.169047          1       1  \n",
       "874          2.013525          1       0  \n",
       "370         -0.323478          1       0  "
      ]
     },
     "execution_count": 33,
     "metadata": {},
     "output_type": "execute_result"
    }
   ],
   "source": [
    "x_train_selected_3 = x_train.drop(corr_features_3, axis=1)\n",
    "x_test_selected_3 = x_test.drop(corr_features_3, axis=1)\n",
    "\n",
    "x_train_selected_3.head()"
   ]
  },
  {
   "cell_type": "code",
   "execution_count": 34,
   "id": "56716adb",
   "metadata": {
    "colab": {
     "base_uri": "https://localhost:8080/",
     "height": 689
    },
    "id": "56716adb",
    "outputId": "43b15394-be1f-4f32-9aea-3ffa82d3369c"
   },
   "outputs": [
    {
     "name": "stdout",
     "output_type": "stream",
     "text": [
      "Intercept:  0.2950977639852698\n"
     ]
    },
    {
     "name": "stderr",
     "output_type": "stream",
     "text": [
      "C:\\Users\\User\\AppData\\Local\\Temp\\ipykernel_17252\\2576597541.py:13: FutureWarning: The frame.append method is deprecated and will be removed from pandas in a future version. Use pandas.concat instead.\n",
      "  eval_results = eval_results.append(setup_3_3_eval, ignore_index=True)\n"
     ]
    },
    {
     "data": {
      "text/html": [
       "<div>\n",
       "<style scoped>\n",
       "    .dataframe tbody tr th:only-of-type {\n",
       "        vertical-align: middle;\n",
       "    }\n",
       "\n",
       "    .dataframe tbody tr th {\n",
       "        vertical-align: top;\n",
       "    }\n",
       "\n",
       "    .dataframe thead th {\n",
       "        text-align: right;\n",
       "    }\n",
       "</style>\n",
       "<table border=\"1\" class=\"dataframe\">\n",
       "  <thead>\n",
       "    <tr style=\"text-align: right;\">\n",
       "      <th></th>\n",
       "      <th>Predictor/s</th>\n",
       "      <th>R2</th>\n",
       "      <th>MAE</th>\n",
       "      <th>MSE</th>\n",
       "      <th>RMSE</th>\n",
       "      <th>Regression Score</th>\n",
       "      <th>Cross-Val Mean</th>\n",
       "    </tr>\n",
       "  </thead>\n",
       "  <tbody>\n",
       "    <tr>\n",
       "      <th>0</th>\n",
       "      <td>All</td>\n",
       "      <td>80.503011</td>\n",
       "      <td>0.287223</td>\n",
       "      <td>0.162777</td>\n",
       "      <td>0.403456</td>\n",
       "      <td>0.827471</td>\n",
       "      <td>70.89072</td>\n",
       "    </tr>\n",
       "    <tr>\n",
       "      <th>1</th>\n",
       "      <td>Followers, Stream time(minutes)</td>\n",
       "      <td>-71.367993</td>\n",
       "      <td>0.602017</td>\n",
       "      <td>0.58566</td>\n",
       "      <td>0.765284</td>\n",
       "      <td>0.379254</td>\n",
       "      <td>-6.129891</td>\n",
       "    </tr>\n",
       "    <tr>\n",
       "      <th>2</th>\n",
       "      <td>Watch time(Minutes), Stream time(minutes), Par...</td>\n",
       "      <td>80.575612</td>\n",
       "      <td>0.297512</td>\n",
       "      <td>0.162575</td>\n",
       "      <td>0.403206</td>\n",
       "      <td>0.827686</td>\n",
       "      <td>70.514282</td>\n",
       "    </tr>\n",
       "    <tr>\n",
       "      <th>3</th>\n",
       "      <td>Watch time(Minutes), Stream time(minutes), Pea...</td>\n",
       "      <td>80.730591</td>\n",
       "      <td>0.285443</td>\n",
       "      <td>0.160915</td>\n",
       "      <td>0.401142</td>\n",
       "      <td>0.829445</td>\n",
       "      <td>71.12983</td>\n",
       "    </tr>\n",
       "    <tr>\n",
       "      <th>4</th>\n",
       "      <td>Watch time(Minutes), Stream time(minutes), Pea...</td>\n",
       "      <td>80.509738</td>\n",
       "      <td>0.287418</td>\n",
       "      <td>0.1629</td>\n",
       "      <td>0.403609</td>\n",
       "      <td>0.82734</td>\n",
       "      <td>71.051783</td>\n",
       "    </tr>\n",
       "  </tbody>\n",
       "</table>\n",
       "</div>"
      ],
      "text/plain": [
       "                                         Predictor/s         R2       MAE  \\\n",
       "0                                                All  80.503011  0.287223   \n",
       "1                    Followers, Stream time(minutes) -71.367993  0.602017   \n",
       "2  Watch time(Minutes), Stream time(minutes), Par...  80.575612  0.297512   \n",
       "3  Watch time(Minutes), Stream time(minutes), Pea...  80.730591  0.285443   \n",
       "4  Watch time(Minutes), Stream time(minutes), Pea...  80.509738  0.287418   \n",
       "\n",
       "        MSE      RMSE Regression Score Cross-Val Mean  \n",
       "0  0.162777  0.403456         0.827471       70.89072  \n",
       "1   0.58566  0.765284         0.379254      -6.129891  \n",
       "2  0.162575  0.403206         0.827686      70.514282  \n",
       "3  0.160915  0.401142         0.829445       71.12983  \n",
       "4    0.1629  0.403609          0.82734      71.051783  "
      ]
     },
     "execution_count": 34,
     "metadata": {},
     "output_type": "execute_result"
    },
    {
     "data": {
      "image/png": "[encoded data removed]",
      "text/plain": [
       "<Figure size 720x504 with 1 Axes>"
      ]
     },
     "metadata": {
      "needs_background": "light"
     },
     "output_type": "display_data"
    }
   ],
   "source": [
    "# Predict\n",
    "setup_3_3_pred, coef_3_3, regr_score_3_3 = linear_regression(x_train_selected_3, y_train, x_test_selected_3)\n",
    "\n",
    "# Evaluation\n",
    "setup_3_3_eval = evaluate_model(setup_3_3_pred, y_test)\n",
    "\n",
    "# Cross Validation\n",
    "cv_score = cross_val_score(LinearRegression(), x[x_train_selected_3.columns], y, cv=10)\n",
    "\n",
    "# Compile evaluation results\n",
    "setup_3_3_eval.update({\"Predictor/s\": \", \".join(x_train_selected_3.columns), \"Cross-Val Mean\": cv_score.mean() * 100, \"Regression Score\": regr_score_3_3})\n",
    "\n",
    "eval_results = eval_results.append(setup_3_3_eval, ignore_index=True)\n",
    "eval_results"
   ]
  },
  {
   "cell_type": "code",
   "execution_count": 35,
   "id": "pVbrL1FsdxyF",
   "metadata": {
    "colab": {
     "base_uri": "https://localhost:8080/",
     "height": 81
    },
    "id": "pVbrL1FsdxyF",
    "outputId": "cb88dacf-1a43-422b-b8f3-d4b6ff4088b8"
   },
   "outputs": [
    {
     "data": {
      "text/html": [
       "<div>\n",
       "<style scoped>\n",
       "    .dataframe tbody tr th:only-of-type {\n",
       "        vertical-align: middle;\n",
       "    }\n",
       "\n",
       "    .dataframe tbody tr th {\n",
       "        vertical-align: top;\n",
       "    }\n",
       "\n",
       "    .dataframe thead th {\n",
       "        text-align: right;\n",
       "    }\n",
       "</style>\n",
       "<table border=\"1\" class=\"dataframe\">\n",
       "  <thead>\n",
       "    <tr style=\"text-align: right;\">\n",
       "      <th></th>\n",
       "      <th>Watch time(Minutes)</th>\n",
       "      <th>Stream time(minutes)</th>\n",
       "      <th>Peak viewers</th>\n",
       "      <th>Followers</th>\n",
       "      <th>Followers gained</th>\n",
       "      <th>Partnered</th>\n",
       "      <th>Mature</th>\n",
       "    </tr>\n",
       "  </thead>\n",
       "  <tbody>\n",
       "    <tr>\n",
       "      <th>Coef</th>\n",
       "      <td>0.72971</td>\n",
       "      <td>-0.680838</td>\n",
       "      <td>0.060772</td>\n",
       "      <td>0.021738</td>\n",
       "      <td>0.018391</td>\n",
       "      <td>-0.314334</td>\n",
       "      <td>0.045911</td>\n",
       "    </tr>\n",
       "  </tbody>\n",
       "</table>\n",
       "</div>"
      ],
      "text/plain": [
       "      Watch time(Minutes)  Stream time(minutes)  Peak viewers  Followers  \\\n",
       "Coef              0.72971             -0.680838      0.060772   0.021738   \n",
       "\n",
       "      Followers gained  Partnered    Mature  \n",
       "Coef          0.018391  -0.314334  0.045911  "
      ]
     },
     "execution_count": 35,
     "metadata": {},
     "output_type": "execute_result"
    }
   ],
   "source": [
    "pd.DataFrame(coef_3_3, index=[\"Coef\"])"
   ]
  },
  {
   "cell_type": "markdown",
   "id": "0bcacab0",
   "metadata": {
    "id": "0bcacab0"
   },
   "source": [
    "## Evaluation Summary"
   ]
  },
  {
   "cell_type": "code",
   "execution_count": 36,
   "id": "98cbb6fa",
   "metadata": {
    "colab": {
     "base_uri": "https://localhost:8080/",
     "height": 237
    },
    "id": "98cbb6fa",
    "outputId": "c51a8d2f-54c1-49bf-9bcd-92b97d407abc"
   },
   "outputs": [
    {
     "data": {
      "text/html": [
       "<div>\n",
       "<style scoped>\n",
       "    .dataframe tbody tr th:only-of-type {\n",
       "        vertical-align: middle;\n",
       "    }\n",
       "\n",
       "    .dataframe tbody tr th {\n",
       "        vertical-align: top;\n",
       "    }\n",
       "\n",
       "    .dataframe thead th {\n",
       "        text-align: right;\n",
       "    }\n",
       "</style>\n",
       "<table border=\"1\" class=\"dataframe\">\n",
       "  <thead>\n",
       "    <tr style=\"text-align: right;\">\n",
       "      <th></th>\n",
       "      <th>R2</th>\n",
       "      <th>MAE</th>\n",
       "      <th>MSE</th>\n",
       "      <th>RMSE</th>\n",
       "      <th>Regression Score</th>\n",
       "      <th>Cross-Val Mean</th>\n",
       "    </tr>\n",
       "    <tr>\n",
       "      <th>Predictor/s</th>\n",
       "      <th></th>\n",
       "      <th></th>\n",
       "      <th></th>\n",
       "      <th></th>\n",
       "      <th></th>\n",
       "      <th></th>\n",
       "    </tr>\n",
       "  </thead>\n",
       "  <tbody>\n",
       "    <tr>\n",
       "      <th>All</th>\n",
       "      <td>80.503011</td>\n",
       "      <td>0.287223</td>\n",
       "      <td>0.162777</td>\n",
       "      <td>0.403456</td>\n",
       "      <td>0.827471</td>\n",
       "      <td>70.89072</td>\n",
       "    </tr>\n",
       "    <tr>\n",
       "      <th>Followers, Stream time(minutes)</th>\n",
       "      <td>-71.367993</td>\n",
       "      <td>0.602017</td>\n",
       "      <td>0.58566</td>\n",
       "      <td>0.765284</td>\n",
       "      <td>0.379254</td>\n",
       "      <td>-6.129891</td>\n",
       "    </tr>\n",
       "    <tr>\n",
       "      <th>Watch time(Minutes), Stream time(minutes), Partnered, Mature</th>\n",
       "      <td>80.575612</td>\n",
       "      <td>0.297512</td>\n",
       "      <td>0.162575</td>\n",
       "      <td>0.403206</td>\n",
       "      <td>0.827686</td>\n",
       "      <td>70.514282</td>\n",
       "    </tr>\n",
       "    <tr>\n",
       "      <th>Watch time(Minutes), Stream time(minutes), Peak viewers, Followers, Partnered, Mature</th>\n",
       "      <td>80.730591</td>\n",
       "      <td>0.285443</td>\n",
       "      <td>0.160915</td>\n",
       "      <td>0.401142</td>\n",
       "      <td>0.829445</td>\n",
       "      <td>71.12983</td>\n",
       "    </tr>\n",
       "    <tr>\n",
       "      <th>Watch time(Minutes), Stream time(minutes), Peak viewers, Followers, Followers gained, Partnered, Mature</th>\n",
       "      <td>80.509738</td>\n",
       "      <td>0.287418</td>\n",
       "      <td>0.1629</td>\n",
       "      <td>0.403609</td>\n",
       "      <td>0.82734</td>\n",
       "      <td>71.051783</td>\n",
       "    </tr>\n",
       "  </tbody>\n",
       "</table>\n",
       "</div>"
      ],
      "text/plain": [
       "                                                           R2       MAE  \\\n",
       "Predictor/s                                                               \n",
       "All                                                 80.503011  0.287223   \n",
       "Followers, Stream time(minutes)                    -71.367993  0.602017   \n",
       "Watch time(Minutes), Stream time(minutes), Part...  80.575612  0.297512   \n",
       "Watch time(Minutes), Stream time(minutes), Peak...  80.730591  0.285443   \n",
       "Watch time(Minutes), Stream time(minutes), Peak...  80.509738  0.287418   \n",
       "\n",
       "                                                         MSE      RMSE  \\\n",
       "Predictor/s                                                              \n",
       "All                                                 0.162777  0.403456   \n",
       "Followers, Stream time(minutes)                      0.58566  0.765284   \n",
       "Watch time(Minutes), Stream time(minutes), Part...  0.162575  0.403206   \n",
       "Watch time(Minutes), Stream time(minutes), Peak...  0.160915  0.401142   \n",
       "Watch time(Minutes), Stream time(minutes), Peak...    0.1629  0.403609   \n",
       "\n",
       "                                                   Regression Score  \\\n",
       "Predictor/s                                                           \n",
       "All                                                        0.827471   \n",
       "Followers, Stream time(minutes)                            0.379254   \n",
       "Watch time(Minutes), Stream time(minutes), Part...         0.827686   \n",
       "Watch time(Minutes), Stream time(minutes), Peak...         0.829445   \n",
       "Watch time(Minutes), Stream time(minutes), Peak...          0.82734   \n",
       "\n",
       "                                                   Cross-Val Mean  \n",
       "Predictor/s                                                        \n",
       "All                                                      70.89072  \n",
       "Followers, Stream time(minutes)                         -6.129891  \n",
       "Watch time(Minutes), Stream time(minutes), Part...      70.514282  \n",
       "Watch time(Minutes), Stream time(minutes), Peak...       71.12983  \n",
       "Watch time(Minutes), Stream time(minutes), Peak...      71.051783  "
      ]
     },
     "execution_count": 36,
     "metadata": {},
     "output_type": "execute_result"
    }
   ],
   "source": [
    "eval_results.set_index(\"Predictor/s\", inplace = True)\n",
    "eval_results.head()"
   ]
  },
  {
   "cell_type": "code",
   "execution_count": null,
   "id": "a40648b9",
   "metadata": {},
   "outputs": [],
   "source": []
  }
 ],
 "metadata": {
  "colab": {
   "provenance": []
  },
  "kernelspec": {
   "display_name": "Python 3 (ipykernel)",
   "language": "python",
   "name": "python3"
  },
  "language_info": {
   "codemirror_mode": {
    "name": "ipython",
    "version": 3
   },
   "file_extension": ".py",
   "mimetype": "text/x-python",
   "name": "python",
   "nbconvert_exporter": "python",
   "pygments_lexer": "ipython3",
   "version": "3.9.12"
  }
 },
 "nbformat": 4,
 "nbformat_minor": 5
}
